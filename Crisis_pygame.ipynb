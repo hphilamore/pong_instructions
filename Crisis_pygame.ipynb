{
 "cells": [
  {
   "cell_type": "markdown",
   "metadata": {},
   "source": [
    "# Programming a Computer Game \n",
    "In this tutorial, you will learn to build your own computer game.\n",
    "Like spoken languages, computer programs are written in different programming languages.\n",
    "\n",
    "Today we are going to write code using a programming language called Python. \n",
    "\n",
    "We are going to build the game pong, which you may have seen before.\n",
    "\n",
    "Through building the game you will learn some core programming skills that are used in almost every computer program.\n",
    "\n",
    "On your screen you can see two windows. This is the __instructions__ window. The other window shown is the __code__ window.\n",
    "\n",
    "Instructions will be shown in the instructions window. The instructions will appear one by one in the slides and I will explain each step. \n",
    "\n",
    "In this window there are also sections of code for you to copy. You will copy this code to the __code window__ to \"run\" the code. \"Running\" the code makes the computer output what the code tells it to do. We will copy one section at a time, to build up a complete computer program, piece by piece. \n",
    "\n",
    "Inside the code window there are three boxes: \n",
    "- Large box (Editor): You will *write* your code in here. \n",
    "- Medium box (IPython console): The *output* of your code will appear here.\n",
    "- Small box (Variable explorer): You will not need to use this box today.\n",
    "\n"
   ]
  },
  {
   "cell_type": "markdown",
   "metadata": {},
   "source": [
    "In the instructions window, you can tell which parts are code and which are not, as code has a box around it, like this:"
   ]
  },
  {
   "cell_type": "code",
   "execution_count": null,
   "metadata": {},
   "outputs": [],
   "source": [
    "print('hello world')"
   ]
  },
  {
   "cell_type": "markdown",
   "metadata": {},
   "source": [
    "To find out what the code in the box above does, *copy and paste* it to the code window.\n",
    "\n",
    "To copy the code:\n",
    "- Use the mouse to highlight the code by holding down the *left* mouse button and dragging the curser over the text you want to highlight.\n",
    "- Press and hold \"Ctrl\" on the keyboard. While holding \"Ctrl\" press \"C\" on the keyboard.\n",
    "\n",
    "<br>\n",
    "To paste the code:\n",
    "- Use the mouse to click on the large box in the code window.\n",
    "- Press and hold \"Ctrl\" on the keyboard. While holding \"Ctrl\" press \"V\" on the keyboard.\n"
   ]
  },
  {
   "cell_type": "markdown",
   "metadata": {
    "collapsed": true
   },
   "source": [
    "At the top of the code window you will see a green traingle like this:\n",
    "\n",
    "![title](img/run_code.png)\n",
    "\n",
    "Click on this to run the code you have copied.\n",
    "<br>You will see the output appear in the medium-sized box. The output is the words between the \"\" quotation marks that we wrote in the large box. \n",
    "\n",
    "Try changing the words to something else, your name for example.\n",
    "<br>Run the code again (click on the green triangle) to see how the output changes. "
   ]
  },
  {
   "cell_type": "markdown",
   "metadata": {
    "collapsed": true
   },
   "source": [
    "## Getting Started\n",
    "First we need a screen or window in which to play the game.\n",
    "<br>Delete the line beginning with `print` from the code window."
   ]
  },
  {
   "cell_type": "code",
   "execution_count": null,
   "metadata": {},
   "outputs": [],
   "source": [
    "import pygame\n",
    "\n",
    "screen = pygame.display.set_mode((640, 400))"
   ]
  },
  {
   "cell_type": "markdown",
   "metadata": {},
   "source": [
    "##### What does this code do?\n",
    "`import pygame` lets us use some useful *commands* in our program.\n",
    "<br>*Commands* are pieces of code that tell the computer to do something.\n",
    "\n",
    "`screen = pygame.display.set_mode((640, 400))`\n",
    "<br>...is a command.\n",
    "<br>It creates a screen with size 640 x 400 pixels."
   ]
  },
  {
   "cell_type": "markdown",
   "metadata": {},
   "source": [
    "Copy and paste the code from the box below *underneath* the code you have already written already in the code window. "
   ]
  },
  {
   "cell_type": "code",
   "execution_count": null,
   "metadata": {},
   "outputs": [],
   "source": [
    "finished = False\n",
    "\n",
    "while not finished:    \n",
    "    event = pygame.event.poll()\n",
    "    \n",
    "    if event.type == pygame.QUIT:        \n",
    "        finished = True"
   ]
  },
  {
   "cell_type": "markdown",
   "metadata": {},
   "source": [
    "##### What does this code do?\n",
    "\n",
    "__Keeping the screen visible__\n",
    "<br>`finished = False` tells the computer that we are not finished (i.e. we don't want to end the program).\n",
    "\n",
    "__Turning the screen off__\n",
    "<br>We now need a way to turn the screen off. Otherwise the computer will try to keep it there forever.\n",
    "\n",
    "`while not finished:\n",
    "\tevent = pygame.event.poll()\n",
    "    if event.type == pygame.QUIT:\n",
    "        finished = True` \n",
    "    \n",
    "...tells the computer that when we click on the X in the top left corner of the screen, it should finish the program and close the screen.  "
   ]
  },
  {
   "cell_type": "markdown",
   "metadata": {},
   "source": [
    "Press 'Ctrl' + 'B' to run your code again.\n",
    "<br>Now the screen remains visible.\n",
    "\n",
    "If you click the x in the top left hand corner, the screen closes and a message appears at the bottom of the code window saying the program has finished. \n"
   ]
  },
  {
   "cell_type": "markdown",
   "metadata": {},
   "source": [
    "## Customising the Screen\n",
    "Let's change the screen to how you want it to look.\n",
    "\n",
    "First let's change it's size.\n",
    "\n",
    "### Changing the screen size\n",
    "In the code window, the numbers 640 and 400 in the line:\n",
    "<br>`screen = pygame.display.set_mode((640, 400))`\n",
    "<br>are the width and height of the screen.\n",
    "\n",
    "Change the numbers; be careful that you don't choose numbers so small that you can't see the screen or so big that you can't see anythong else!\n",
    "\n",
    "Run the code again ('Ctrl'+ 'B') to see your changes."
   ]
  },
  {
   "cell_type": "markdown",
   "metadata": {},
   "source": [
    "### Changing the screen colour\n",
    "The screen is looking a bit boring. \n",
    "<br>Let's add some colour.\n",
    "\n",
    "Copy and paste the code from the box below *underneath* the code already  in the code window."
   ]
  },
  {
   "cell_type": "code",
   "execution_count": null,
   "metadata": {},
   "outputs": [],
   "source": [
    "screen.fill((0, 0, 0))\n",
    "pygame.display.flip()"
   ]
  },
  {
   "cell_type": "markdown",
   "metadata": {},
   "source": [
    "The pasted code shoudl be at the same *indentation level* as the line:\n",
    "`if event.type == pygame.QUIT:`.\n",
    "<br>We will learn about why and when we indent lines a bit later.\n",
    "<br>Now your whole program should look like this:\n",
    "```python\n",
    "import pygame\n",
    "\n",
    "screen = pygame.display.set_mode((640, 400))\n",
    "\n",
    "finished = False\n",
    "\n",
    "while not finished:\n",
    "\tevent = pygame.event.poll()\n",
    "\n",
    "\tif event.type == pygame.QUIT:\n",
    "\t    \tfinished = True\n",
    "\n",
    "\tscreen.fill((240, 200, 230))\n",
    "    pygame.display.flip()\n",
    "\n",
    "```"
   ]
  },
  {
   "cell_type": "markdown",
   "metadata": {},
   "source": [
    "##### What does this code do?\n",
    "The three numbers set the amout of red, the amount of green and the amount of blue that get mixed together to create the colour of the screen.\n",
    "<br>Each number must be between 0 and 255\n",
    "<br>`(0,0,0)` &nbsp;&nbsp; &nbsp; &nbsp; &nbsp; &nbsp; &nbsp; &nbsp; &nbsp; &nbsp; &nbsp; means black \n",
    "<br>`(255, 255, 255)` &nbsp; means white\n",
    "<br>`(255, 0, 0)` &nbsp; &nbsp; &nbsp; &nbsp; &nbsp; &nbsp; means red\n",
    "<br>`(0, 255, 0)` &nbsp; &nbsp; &nbsp; &nbsp; &nbsp; &nbsp; means green\n",
    "<br>`(0, 0, 255)` &nbsp; &nbsp; &nbsp; &nbsp; &nbsp; &nbsp; means blue\n",
    "\n",
    "\n",
    "`pygame.display.flip()` tells the computer to display the change you have made. We can chnage several things then update the display by putting this line at the end. This stops the screen from flickering as the image is updated.\n",
    "\n",
    "Try some different number combinations until you get a colour that your like. \n",
    "<br>Run the code ('Ctrl' + 'B') to view your changes.\n",
    "\n"
   ]
  },
  {
   "cell_type": "markdown",
   "metadata": {},
   "source": [
    "## Adding an Object to the Game\n",
    "\n",
    "We are going to add a shape to the screen.  \n",
    "<br>Copy and paste the code from the box below underneath your code in the code window, *above* the line `pygame.display.flip()`. <br>(remember `pygame.display.flip()` should come last). \n",
    "<br>"
   ]
  },
  {
   "cell_type": "code",
   "execution_count": null,
   "metadata": {},
   "outputs": [],
   "source": [
    "pygame.draw.circle( screen, \n",
    "                    (250, 0, 0), \n",
    "                    [300, 200], \n",
    "                    20) "
   ]
  },
  {
   "cell_type": "markdown",
   "metadata": {},
   "source": [
    "The last part of your code should look like this:\n",
    "```python\n",
    "    screen.fill((240, 0, 230))\n",
    "    \n",
    "    pygame.draw.circle( screen, \n",
    "                        (250, 0, 0), \n",
    "                        [300, 200], \n",
    "                        20) \n",
    "\n",
    "    pygame.display.flip()\n",
    "```"
   ]
  },
  {
   "cell_type": "markdown",
   "metadata": {},
   "source": [
    "##### What does this code do?\n",
    "As the words suggest, this code draws a circle.\n",
    "<br>There are comands to draw other shapes. \n",
    "<br>We will use more of these later."
   ]
  },
  {
   "cell_type": "markdown",
   "metadata": {},
   "source": [
    "We can set four features of the circle:\n",
    " - *which window* we want it to appear in\n",
    " - *colour* of the circle\n",
    " - *where* in the window it should appear\n",
    " - *radius* of the circle (the length across the middle of the circle)"
   ]
  },
  {
   "cell_type": "markdown",
   "metadata": {},
   "source": [
    "In the example above:  \n",
    "\n",
    "- *which window* : we want the circle to appear on the `screen`.\n",
    "- *colour* : set in the same way as the screen; using three numbers `(250, 0, 0)`. \n",
    "- *where* : the circle appear 300 pixels from the top of the screen and 200 pixels from the left of the screen, `[300, 200]`. \n",
    "- *radius* : the circle is `20` pixels wide."
   ]
  },
  {
   "cell_type": "markdown",
   "metadata": {},
   "source": [
    "Try entering different numbers to change the appearance of the circle.\n",
    "<br>Run the code ('Ctrl' + 'B') to view your changes.\n"
   ]
  },
  {
   "cell_type": "markdown",
   "metadata": {},
   "source": [
    "Entering all these numbers is confusing. It is difficult to remmeber what they mean, for example when choosing a colour.\n",
    "<br>An easier way to manage the numbers we enter is using variables.\n",
    "## Core Programming Skill 1: Variables\n",
    "A variable is just an easy to remember word (or letter) that  we can use instead of a number.\n",
    "<br>For example, we know from earlier that when choosing a colour: \n",
    "<br>`(0,0,0)` &nbsp;&nbsp; &nbsp; &nbsp; &nbsp; &nbsp; &nbsp; &nbsp; &nbsp; &nbsp; &nbsp; means black \n",
    "<br>`(255, 255, 255)` &nbsp; means white\n",
    "<br>`(255, 0, 0)` &nbsp; &nbsp; &nbsp; &nbsp; &nbsp; &nbsp; means red\n",
    "<br>`(0, 255, 0)` &nbsp; &nbsp; &nbsp; &nbsp; &nbsp; &nbsp; means green\n",
    "<br>`(0, 0, 255)` &nbsp; &nbsp; &nbsp; &nbsp; &nbsp; &nbsp; means blue\n",
    "\n",
    "So in our program we can write:"
   ]
  },
  {
   "cell_type": "code",
   "execution_count": null,
   "metadata": {},
   "outputs": [],
   "source": [
    "black = (0,0,0)\n",
    "white = (255, 255, 255)\n",
    "red =   (255, 0, 0)\n",
    "green = (0, 255, 0)\n",
    "blue =  (0, 0, 255)"
   ]
  },
  {
   "cell_type": "markdown",
   "metadata": {},
   "source": [
    "So now, to change the colour of the screen to green, istead of:"
   ]
  },
  {
   "cell_type": "code",
   "execution_count": null,
   "metadata": {},
   "outputs": [],
   "source": [
    "screen.fill((0, 255, 0))"
   ]
  },
  {
   "cell_type": "markdown",
   "metadata": {},
   "source": [
    "we can use"
   ]
  },
  {
   "cell_type": "code",
   "execution_count": null,
   "metadata": {},
   "outputs": [],
   "source": [
    "screen.fill(green)"
   ]
  },
  {
   "cell_type": "markdown",
   "metadata": {},
   "source": [
    "#### Try it yourself\n",
    "Copy the list of colours from the box below. "
   ]
  },
  {
   "cell_type": "code",
   "execution_count": null,
   "metadata": {},
   "outputs": [],
   "source": [
    "black = (0,0,0)\n",
    "white = (255, 255, 255)\n",
    "red =   (255, 0, 0)\n",
    "green = (0, 255, 0)\n",
    "blue =  (0, 0, 255)"
   ]
  },
  {
   "cell_type": "markdown",
   "metadata": {},
   "source": [
    "Paste the list of colours at the start of your program *after* `import pygame`.\n",
    "\n",
    "What colour did you make the screen earlier?\n",
    "\n",
    "Choose a name for the colour and add it to the list, followed by the numbers you used to create it. \n",
    "\n",
    "__Rules when choosing names__\n",
    "<br>The name cannot contain spaces e.g.\n",
    "<br>`dark blue` is not allowed.\n",
    "<br>`dark_blue` is allowed. An `_` underscore is a useful way to sperate words in a name."
   ]
  },
  {
   "cell_type": "markdown",
   "metadata": {},
   "source": [
    "Your code should now look something like the code in the box below.\n",
    "\n",
    "Now use the names of the colours to replace numbers that represent colours e.g.\n",
    "\n",
    "`screen.fill((240, 0, 230))` --> `screen.fill(WHITE)`\n",
    "\n",
    "`pygame.draw.circle(screen,`    -->        `pygame.draw.circle(screen,`\n",
    "<br>`(250, 0, 0),` &nbsp;&nbsp;&nbsp;&nbsp;&nbsp;&nbsp;&nbsp;&nbsp;&nbsp;&nbsp;&nbsp;&nbsp;&nbsp;&nbsp;&nbsp;&nbsp;&nbsp;&nbsp;&nbsp;&nbsp;&nbsp;&nbsp;&nbsp;&nbsp;&nbsp;&nbsp;&nbsp;&nbsp;&nbsp;&nbsp;&nbsp;&nbsp;&nbsp;&nbsp;&nbsp;&nbsp;&nbsp;\n",
    "`BLUE,`  <br>`[300, 200],`\n",
    "&nbsp;&nbsp;&nbsp;&nbsp;&nbsp;&nbsp;&nbsp;&nbsp;&nbsp;&nbsp;&nbsp;&nbsp;&nbsp;&nbsp;&nbsp;&nbsp;&nbsp;&nbsp;&nbsp;&nbsp;&nbsp;&nbsp;&nbsp;&nbsp;&nbsp;&nbsp;&nbsp;&nbsp;&nbsp;&nbsp;&nbsp;&nbsp;&nbsp;&nbsp;&nbsp;&nbsp;&nbsp;&nbsp;&nbsp;&nbsp;  `[300, 200],`\n",
    "<br>`20)`\n",
    "&nbsp;&nbsp;&nbsp;&nbsp;&nbsp;&nbsp;&nbsp;&nbsp;&nbsp;&nbsp;&nbsp;&nbsp;&nbsp;&nbsp;&nbsp;&nbsp;&nbsp;&nbsp;&nbsp;&nbsp;&nbsp;&nbsp;&nbsp;&nbsp;&nbsp;&nbsp;&nbsp;&nbsp;&nbsp;&nbsp;&nbsp;&nbsp;&nbsp;&nbsp;&nbsp;&nbsp;&nbsp;&nbsp;&nbsp;&nbsp;&nbsp;&nbsp;&nbsp;&nbsp;&nbsp;&nbsp;&nbsp;&nbsp;&nbsp;&nbsp;&nbsp;&nbsp;&nbsp;&nbsp;&nbsp;&nbsp;&nbsp;&nbsp;\n",
    "`20)`"
   ]
  },
  {
   "cell_type": "code",
   "execution_count": null,
   "metadata": {},
   "outputs": [],
   "source": [
    "import pygame\n",
    "\n",
    "BLACK = (0,0,0)\n",
    "WHITE = (255, 255, 255)\n",
    "RED =   (255, 0, 0)\n",
    "GREEN = (0, 255, 0)\n",
    "BLUE =  (0, 0, 255)\n",
    "MY_COLOUR = (240, 0, 230)\n",
    "\n",
    "screen = pygame.display.set_mode((640, 400))\n",
    "\n",
    "finished = False\n",
    "\n",
    "while not finished:\n",
    "    event = pygame.event.poll()\n",
    "\n",
    "    if event.type == pygame.QUIT:\n",
    "        finished = True\n",
    "\n",
    "    screen.fill((240, 0, 230))\n",
    "\n",
    "    pygame.draw.circle(screen, \n",
    "                       (250, 0, 0), \n",
    "                       [300, 200], \n",
    "                        20) \n",
    "\n",
    "    pygame.display.flip()"
   ]
  },
  {
   "cell_type": "markdown",
   "metadata": {},
   "source": [
    "We can use variables to replace all of the numbers in the code to make it easier to remember what it means. \n",
    "<br>In the box below is a list of all the variables we have used so.\n",
    "<br>Copy the list."
   ]
  },
  {
   "cell_type": "code",
   "execution_count": null,
   "metadata": {},
   "outputs": [],
   "source": [
    "WIDTH = 640\n",
    "HEIGHT = 400\n",
    "RADIUS = 20\n",
    "CIRCLE_horizontal_position = 320\n",
    "CIRCLE_vertical_position = 200"
   ]
  },
  {
   "cell_type": "markdown",
   "metadata": {},
   "source": [
    "Paste the list *under* your list of colours in the code window so it looks like this so it looks like this: \n",
    "```Python\n",
    "BLACK = (0,0,0)\n",
    "WHITE = (255, 255, 255)\n",
    "RED =   (255, 0, 0)\n",
    "GREEN = (0, 255, 0)\n",
    "BLUE =  (0, 0, 255)\n",
    "MY_COLOUR = (240, 0, 230)\n",
    "\n",
    "WIDTH = 640\n",
    "HEIGHT = 400\n",
    "RADIUS = 20\n",
    "CIRCLE_h_position = 320\n",
    "CIRCLE_v_position = 200\n",
    "```"
   ]
  },
  {
   "cell_type": "markdown",
   "metadata": {},
   "source": [
    "Now you can use words in your program instead of numbers:\n",
    "\n",
    "Change the numbers next to WIDTH and HEIGHT:\n",
    "<br>```WIDTH = 640``` --> width you want your screen to be.\n",
    "<br>```HEIGHT = 400``` --> height you want your screen to be.\n",
    "\n",
    "<br>Then replace the line:\n",
    "```Python \n",
    "screen = pygame.display.set_mode((640, 400))\n",
    "```\n",
    "<br>with:\n",
    "```Python \n",
    "screen = pygame.display.set_mode((WIDTH, HEIGHT))\n",
    "```"
   ]
  },
  {
   "cell_type": "code",
   "execution_count": null,
   "metadata": {},
   "outputs": [],
   "source": [
    "screen = pygame.display.set_mode((WIDTH, HEIGHT))"
   ]
  },
  {
   "cell_type": "markdown",
   "metadata": {},
   "source": [
    "Now you can use words in your program instead of numbers:\n",
    "\n",
    "Change the numbers next to RADIUS and CIRCLE_horizontal_position, CIRCLE_vertical_position :\n",
    "<br>```RADIUS = 20```--> Radius (width) you want the circle to be\n",
    "<br>```CIRCLE_h_position = 320```--> Height you want your circle at\n",
    "<br>```CIRCLE_v_position = 200```--> Width you want your circle st\n",
    "to the width and height you want your screen to be.\n",
    "\n",
    "<br>Then replace:\n",
    "```Python\n",
    "`pygame.draw.circle(screen, \n",
    "\t\t\t\t\tBLUE, \n",
    "\t\t\t\t\t[300, 200], \n",
    "\t\t\t\t\t20) `\n",
    "```\n",
    "<br>with:\n",
    "```Python\n",
    "`pygame.draw.circle(screen, \n",
    "\t\t\t\t\tBLUE, \n",
    "\t\t\t\t\t[CIRCLE_h_position, CIRCLE_v_position], \n",
    "\t\t\t\t\t20) `\n",
    "```"
   ]
  },
  {
   "cell_type": "code",
   "execution_count": null,
   "metadata": {},
   "outputs": [],
   "source": [
    "Then "
   ]
  },
  {
   "cell_type": "code",
   "execution_count": null,
   "metadata": {},
   "outputs": [],
   "source": [
    "screen = pygame.display.set_mode((WIDTH, HEIGHT))"
   ]
  },
  {
   "cell_type": "code",
   "execution_count": null,
   "metadata": {},
   "outputs": [],
   "source": [
    "BLACK = (0,0,0)\n",
    "WHITE = (255, 255, 255)\n",
    "RED =   (255, 0, 0)\n",
    "GREEN = (0, 255, 0)\n",
    "BLUE =  (0, 0, 255)\n",
    "MY_COLOUR = (240, 0, 230)"
   ]
  },
  {
   "cell_type": "code",
   "execution_count": null,
   "metadata": {},
   "outputs": [],
   "source": []
  },
  {
   "cell_type": "code",
   "execution_count": null,
   "metadata": {},
   "outputs": [],
   "source": []
  }
 ],
 "metadata": {
  "kernelspec": {
   "display_name": "Python 3",
   "language": "python",
   "name": "python3"
  },
  "language_info": {
   "codemirror_mode": {
    "name": "ipython",
    "version": 3
   },
   "file_extension": ".py",
   "mimetype": "text/x-python",
   "name": "python",
   "nbconvert_exporter": "python",
   "pygments_lexer": "ipython3",
   "version": "3.6.2"
  }
 },
 "nbformat": 4,
 "nbformat_minor": 2
}
