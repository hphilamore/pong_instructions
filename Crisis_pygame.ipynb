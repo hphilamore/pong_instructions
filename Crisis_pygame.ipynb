{
 "cells": [
  {
   "cell_type": "code",
   "execution_count": 9,
   "metadata": {},
   "outputs": [],
   "source": [
    "import sys\n",
    "sys.path.insert(0, '../../python_scripts/Crisis_pygame/')"
   ]
  },
  {
   "cell_type": "markdown",
   "metadata": {
    "slideshow": {
     "slide_type": "slide"
    }
   },
   "source": [
    "# Programming Your First Computer Game \n",
    "In this tutorial, you will learn to build your own computer game.\n",
    "<br>The computer game is based on 'Pong'.\n",
    "You may have seen or played this game before..."
   ]
  },
  {
   "cell_type": "code",
   "execution_count": null,
   "metadata": {
    "slideshow": {
     "slide_type": "subslide"
    }
   },
   "outputs": [],
   "source": [
    "![title](img/pong.png)"
   ]
  },
  {
   "cell_type": "code",
   "execution_count": null,
   "metadata": {
    "slideshow": {
     "slide_type": "subslide"
    }
   },
   "outputs": [],
   "source": [
    "\n",
    "Like spoken languages, computer programs are written in different programming languages.\n",
    "\n",
    "Today we are going to write code using a programming language called __Python__. \n",
    "\n",
    "You will learn some core programming skills that are used to build almost every computer program."
   ]
  },
  {
   "cell_type": "markdown",
   "metadata": {
    "slideshow": {
     "slide_type": "subslide"
    }
   },
   "source": [
    "On your screen you can see two windows. This is the __instructions__ window. The other window shown is the __code__ window."
   ]
  },
  {
   "cell_type": "markdown",
   "metadata": {
    "slideshow": {
     "slide_type": "subslide"
    }
   },
   "source": [
    "Instructions will be shown in the instructions window. The instructions will also appear one by one in the slides and I will explain each step.  "
   ]
  },
  {
   "cell_type": "markdown",
   "metadata": {
    "slideshow": {
     "slide_type": "subslide"
    }
   },
   "source": [
    "\n",
    "There are also section of computer code in the instruction window for you to copy. You will copy this code to the __code window__ to \"run\" the code. \"Running\" the code makes the computer output what the code tells it to do. We will copy one section at a time, to build up a complete computer program, piece by piece."
   ]
  },
  {
   "cell_type": "markdown",
   "metadata": {
    "slideshow": {
     "slide_type": "subslide"
    }
   },
   "source": [
    "In the instructions window, you can tell which parts are code and which are not, as code has a box around it, like this:"
   ]
  },
  {
   "cell_type": "code",
   "execution_count": 3,
   "metadata": {},
   "outputs": [
    {
     "name": "stdout",
     "output_type": "stream",
     "text": [
      "hello world\n"
     ]
    }
   ],
   "source": [
    "print('hello world')"
   ]
  },
  {
   "cell_type": "markdown",
   "metadata": {
    "slideshow": {
     "slide_type": "subslide"
    }
   },
   "source": [
    "To find out what the code in the box above does, *copy and paste* it to the code window.\n",
    "\n",
    "To copy the code:\n",
    "- Use the mouse to highlight the code by holding down the *left* mouse button and dragging the curser over the text you want to highlight.\n",
    "- Press and hold \"Ctrl\" on the keyboard. While holding \"Ctrl\" press \"C\" on the keyboard.\n",
    "\n",
    "<br>\n",
    "To paste the code:\n",
    "- Use the left mouse button to click on the code window.\n",
    "- Press and hold \"Ctrl\" on the keyboard. While holding \"Ctrl\" press \"V\" on the keyboard.\n"
   ]
  },
  {
   "cell_type": "markdown",
   "metadata": {
    "collapsed": true,
    "slideshow": {
     "slide_type": "subslide"
    }
   },
   "source": [
    "To run the code:\n",
    "- Press and hold \"Ctrl\" on the keyboard. While holding \"Ctrl\" press \"B\" on the keyboard.\n",
    "\n",
    "You will see the output appear at the bottom of the code window.\n",
    "\n"
   ]
  },
  {
   "cell_type": "markdown",
   "metadata": {
    "slideshow": {
     "slide_type": "subslide"
    }
   },
   "source": [
    "The computer outputs the output is the words between the '' quotation marks in the code that you copied.  \n",
    "\n",
    "Try changing the words to something else, your name for example.\n",
    "\n",
    "Run the code again (\"Ctrl\" + \"B\") to see how the output changes. "
   ]
  },
  {
   "cell_type": "markdown",
   "metadata": {
    "collapsed": true,
    "slideshow": {
     "slide_type": "slide"
    }
   },
   "source": [
    "## Getting Started\n",
    "First we need some set-up code to help us build the game.\n",
    "\n",
    "Delete the line beginning with `print` from the code window.\n",
    "\n"
   ]
  },
  {
   "cell_type": "markdown",
   "metadata": {
    "slideshow": {
     "slide_type": "subslide"
    }
   },
   "source": [
    "Copy and the code from the box below and paste it in the code window."
   ]
  },
  {
   "cell_type": "code",
   "execution_count": 10,
   "metadata": {},
   "outputs": [],
   "source": [
    "import random\n",
    "import pygame, sys\n",
    "from pygame.locals import *\n",
    "import game_builder\n",
    "from game_builder import *\n",
    "pygame.init()\n",
    "clock = pygame.time.Clock()"
   ]
  },
  {
   "cell_type": "markdown",
   "metadata": {
    "slideshow": {
     "slide_type": "subslide"
    }
   },
   "source": [
    "##### What does this code do?\n",
    "Notice that this code contains the word `import` multiple times.\n",
    "\n",
    "The code lets us *import* some useful *commands* to use in our program.\n",
    "\n",
    "*Commands* are pieces of code that tell the computer to do something."
   ]
  },
  {
   "cell_type": "markdown",
   "metadata": {
    "slideshow": {
     "slide_type": "slide"
    }
   },
   "source": [
    "## Your First Command"
   ]
  },
  {
   "cell_type": "markdown",
   "metadata": {},
   "source": [
    "The code in the box below is a command."
   ]
  },
  {
   "cell_type": "code",
   "execution_count": null,
   "metadata": {},
   "outputs": [],
   "source": [
    "window = pygame.display.set_mode((600, 400))\n",
    "game_builder.window = window\n",
    "init()"
   ]
  },
  {
   "cell_type": "markdown",
   "metadata": {
    "slideshow": {
     "slide_type": "subslide"
    }
   },
   "source": [
    "##### What does this code do?\n",
    "It creates a window with size 600 x 400 pixels.\n",
    "<br>This window will contain your computer game.\n",
    "\n",
    "Copy the code (\"Ctrl\" + \"C\"). "
   ]
  },
  {
   "cell_type": "markdown",
   "metadata": {
    "slideshow": {
     "slide_type": "subslide"
    }
   },
   "source": [
    "Paste the copied code (\"Ctrl\" + \"V\") *directly underneath* the code you have already written already in the code window. \n",
    "\n",
    "Your program should now look something like this:\n",
    "![setup_screenshot](img/setup_screenshot.png)\n",
    "\n",
    "Press 'Ctrl' + 'B' to run your code."
   ]
  },
  {
   "cell_type": "markdown",
   "metadata": {
    "slideshow": {
     "slide_type": "subslide"
    }
   },
   "source": [
    "Notice that the window appears, then disappears again.\n",
    "\n",
    "Let's add some code to:\n",
    " - keep the window open\n",
    " - allow us to close it when we want to\n",
    " \n"
   ]
  },
  {
   "cell_type": "markdown",
   "metadata": {
    "slideshow": {
     "slide_type": "subslide"
    }
   },
   "source": [
    "Copy the code from the box below (\"Ctrl\" + \"C\"). "
   ]
  },
  {
   "cell_type": "code",
   "execution_count": null,
   "metadata": {},
   "outputs": [],
   "source": [
    "while True:\n",
    "    event = pygame.event.poll()\n",
    "    if event.type == pygame.QUIT:        \n",
    "        pygame.quit()\n",
    "        sys.exit()"
   ]
  },
  {
   "cell_type": "markdown",
   "metadata": {
    "slideshow": {
     "slide_type": "subslide"
    }
   },
   "source": [
    "Paste the copied code (\"Ctrl\" + \"V\") *directly underneath* the code you have already written already in the code window. \n",
    "\n",
    "##### What does this code do?\n",
    "```Python\n",
    "while True:\n",
    "```\n",
    "This is widely used computer code.\n",
    "It tells the computer to do everything that is:\n",
    "1. written after it\n",
    "1. indented (moved 4 space to the right)\n",
    "repeatedly, until we tell it to __stop__.\n",
    "\n"
   ]
  },
  {
   "cell_type": "markdown",
   "metadata": {
    "slideshow": {
     "slide_type": "subslide"
    }
   },
   "source": [
    "##### How do we tell it to stop?\n",
    "```Python\n",
    "pygame.quit()\n",
    "sys.exit()\n",
    "```\n",
    "\n",
    "...tells the computer to `quit` and `exit` the program. \n",
    "\n"
   ]
  },
  {
   "cell_type": "markdown",
   "metadata": {
    "slideshow": {
     "slide_type": "subslide"
    }
   },
   "source": [
    "When we put these lines of code after the lines:\n",
    "```Python\n",
    " event = pygame.event.poll()\n",
    " if event.type == pygame.QUIT:`\n",
    " ```\n",
    "...it tells the computer to `quit` and `exit` the program <font color='red'>if</font> we click on the x button in the top left corner of the game window.         \n",
    "\n"
   ]
  },
  {
   "cell_type": "markdown",
   "metadata": {
    "slideshow": {
     "slide_type": "subslide"
    }
   },
   "source": [
    "Press 'Ctrl' + 'B' to run your code again.\n",
    "\n",
    "The window should appear again. \n",
    "\n",
    "Click on the x button in the top left of the window to close it. \n"
   ]
  },
  {
   "cell_type": "markdown",
   "metadata": {
    "slideshow": {
     "slide_type": "slide"
    }
   },
   "source": [
    "## Customising the Game Window\n",
    "Let's change the screen to look how you choose it to. \n",
    "\n",
    "First let's change it's size...\n",
    "\n"
   ]
  },
  {
   "cell_type": "markdown",
   "metadata": {
    "slideshow": {
     "slide_type": "subslide"
    }
   },
   "source": [
    "### Changing the window size\n",
    "In the code window, in the line:\n",
    "<br>`screen = pygame.display.set_mode((600, 400))`\n",
    "<br>the numbers 640 is the width of the screen, 400 is the width of the screen in pixels.\n",
    "\n",
    "Change the numbers; be careful that you don't choose numbers so small that you can't see the screen or so big that you can't see anythong else!\n",
    "\n",
    "Run the code again ('Ctrl'+ 'B') to see your changes."
   ]
  },
  {
   "cell_type": "markdown",
   "metadata": {
    "slideshow": {
     "slide_type": "subslide"
    }
   },
   "source": [
    "### Changing the window colour\n",
    "The screen is looking a bit boring. \n",
    "<br>Let's add some colour.\n",
    "\n",
    "Copy and the code from the box below."
   ]
  },
  {
   "cell_type": "code",
   "execution_count": null,
   "metadata": {
    "slideshow": {
     "slide_type": "subslide"
    }
   },
   "outputs": [],
   "source": [
    "window.fill((255, 255, 255))\n",
    "\n",
    "pygame.display.update()"
   ]
  },
  {
   "cell_type": "markdown",
   "metadata": {
    "slideshow": {
     "slide_type": "subslide"
    }
   },
   "source": [
    "Paste the copied code at the very end of the program in the code window. <br>The pasted code should be at the same *indentation level* (distance from the left side of the screen) as the line:\n",
    "`if event.type == pygame.QUIT:`.\n",
    "        \n",
    "In other words, the last part of your program in the code window should look like this:\n",
    "```python\n",
    "while True:\n",
    "    \n",
    "    event = pygame.event.poll()\n",
    "    if event.type == pygame.QUIT:    \t\n",
    "        pygame.quit()\n",
    "        sys.exit()\n",
    "\n",
    "    window.fill((255, 255, 255))\n",
    "\n",
    "    pygame.display.update()\n",
    "\n",
    "```"
   ]
  },
  {
   "cell_type": "markdown",
   "metadata": {
    "slideshow": {
     "slide_type": "subslide"
    }
   },
   "source": [
    "##### What does this code do?\n",
    "`screen.fill((255, 255, 255))` sets the colour of the screen. \n",
    "<br>In the sequence of numbers: `255, 255, 255`:\n",
    "- the first number sets the amout of <font color='red'>red</font>\n",
    "- the second number sets the amout of <font color='green'>green</font> \n",
    "- the third number sets the amout of <font color='blue'>blue</font> \n",
    "that get mixed together to create the colour of the screen.\n",
    "\n",
    "Each number must be between 0 and 255\n",
    "<br>`(0,0,0)` &nbsp;&nbsp; &nbsp; &nbsp; &nbsp; &nbsp; &nbsp; &nbsp; &nbsp; &nbsp; &nbsp; means black \n",
    "<br>`(255, 255, 255)` &nbsp; means white\n",
    "<br>`(255, 0, 0)` &nbsp; &nbsp; &nbsp; &nbsp; &nbsp; &nbsp; means <font color='red'>red</font>\n",
    "<br>`(0, 255, 0)` &nbsp; &nbsp; &nbsp; &nbsp; &nbsp; &nbsp; means <font color='green'>green</font>\n",
    "<br>`(0, 0, 255)` &nbsp; &nbsp; &nbsp; &nbsp; &nbsp; &nbsp; means <font color='blue'>blue</font>\n",
    "\n",
    "\n",
    "`pygame.display.update()` \n",
    "<br>...tells the computer to *update the display in the window* with the change you have made. \n",
    "\n",
    "Try some different number combinations until you get a colour that your like. \n",
    "<br>Each time you change the numbers, run the code ('Ctrl' + 'B') to view your changes..\n",
    "<br>When you run the code:\n",
    " - First, the window will appear.\n",
    " - After a few moments, it will chnage to the colour you set.\n",
    "Close the window by clicking the x button in the top left of the window before running your code again.\n",
    "\n"
   ]
  },
  {
   "cell_type": "markdown",
   "metadata": {
    "slideshow": {
     "slide_type": "slide"
    }
   },
   "source": [
    "## Core Programming Skill 1: Variables\n",
    "Entering all these numbers is confusing. It is difficult to remember what they mean, for example when choosing a colour.\n",
    "<br>An easier way is to replace the numbers with *variables*.\n",
    "\n",
    "A variable is just an easy to remember word (or letter) that  we can use instead of a number."
   ]
  },
  {
   "cell_type": "markdown",
   "metadata": {
    "slideshow": {
     "slide_type": "subslide"
    }
   },
   "source": [
    "For example, earlier we learnt that: \n",
    "\n",
    ">black =`(0,0,0)` \n",
    "><br>white = `(255, 255, 255)` \n",
    "><br>red = `(255, 0, 0)` \n",
    "><br>green = `(0, 255, 0)` \n",
    "><br>blue = `(0, 0, 255)` \n",
    "\n",
    "So in our program we can write:"
   ]
  },
  {
   "cell_type": "code",
   "execution_count": null,
   "metadata": {},
   "outputs": [],
   "source": [
    "black = (0,0,0)\n",
    "white = (255, 255, 255)\n",
    "red =   (255, 0, 0)\n",
    "green = (0, 255, 0)\n",
    "blue =  (0, 0, 255)"
   ]
  },
  {
   "cell_type": "markdown",
   "metadata": {
    "slideshow": {
     "slide_type": "subslide"
    }
   },
   "source": [
    "So now, to change the colour of the screen to green, instead of:"
   ]
  },
  {
   "cell_type": "code",
   "execution_count": null,
   "metadata": {},
   "outputs": [],
   "source": [
    "screen.fill((0, 255, 0))"
   ]
  },
  {
   "cell_type": "markdown",
   "metadata": {},
   "source": [
    "we can use"
   ]
  },
  {
   "cell_type": "code",
   "execution_count": null,
   "metadata": {},
   "outputs": [],
   "source": [
    "screen.fill(green)"
   ]
  },
  {
   "cell_type": "markdown",
   "metadata": {
    "slideshow": {
     "slide_type": "subslide"
    }
   },
   "source": [
    "#### Try it yourself\n",
    "Copy the list of colours from the box below. \n"
   ]
  },
  {
   "cell_type": "code",
   "execution_count": null,
   "metadata": {},
   "outputs": [],
   "source": [
    "black = (0,0,0)\n",
    "white = (255, 255, 255)\n",
    "red =   (255, 0, 0)\n",
    "green = (0, 255, 0)\n",
    "blue =  (0, 0, 255)"
   ]
  },
  {
   "cell_type": "markdown",
   "metadata": {
    "slideshow": {
     "slide_type": "subslide"
    }
   },
   "source": [
    "Paste the list in your program in the code window *immediately after* the line `clock = pygame.time.Clock()`, like this:\n",
    "```Python\n",
    "import random\n",
    "import pygame, sys\n",
    "from pygame.locals import *\n",
    "import game_builder\n",
    "from game_builder import *\n",
    "pygame.init()\n",
    "clock = pygame.time.Clock()\n",
    "\n",
    "black = (0,0,0)\n",
    "white = (255, 255, 255)\n",
    "red =   (255, 0, 0)\n",
    "green = (0, 255, 0)\n",
    "blue =  (0, 0, 255)\n",
    "```"
   ]
  },
  {
   "cell_type": "markdown",
   "metadata": {
    "slideshow": {
     "slide_type": "subslide"
    }
   },
   "source": [
    "What colour did you make the game window earlier?\n",
    "\n",
    "Add the colour you made to the list of variables. \n",
    "\n",
    "\n"
   ]
  },
  {
   "cell_type": "markdown",
   "metadata": {
    "slideshow": {
     "slide_type": "subslide"
    }
   },
   "source": [
    "1. Choose a name for the colour and add it to the list.\n",
    ">__Rules wmhen choosing names__\n",
    " <br>The name cannot contain spaces e.g.<br>`dark blue` is not allowed.<br>`dark_blue` is allowed.<br>An underscore _ is a useful way to sperate words in a name.\n",
    "1. Put an equals sign. \n",
    "1. After the equals sign put the number you used to make the colour, in () brackets.  \n",
    "\n",
    "If you made the screen purple, you could write:\n",
    "```Python\n",
    "purple = (100, 0, 100)\n",
    "```"
   ]
  },
  {
   "cell_type": "markdown",
   "metadata": {
    "slideshow": {
     "slide_type": "subslide"
    }
   },
   "source": [
    "\n",
    "\n",
    "\n",
    "Now change the colour of the screen using the new *variable* you just created, instead of a *number*.   \n",
    "<br>For example, replace:\n",
    "```Python\n",
    "window.fill((100, 0, 100))\n",
    "```\n",
    "<br>with:\n",
    "```Python\n",
    "window.fill(purple)\n",
    "```\n"
   ]
  },
  {
   "cell_type": "markdown",
   "metadata": {
    "slideshow": {
     "slide_type": "subslide"
    }
   },
   "source": [
    "### Some more useful variables\n",
    "I have written some useful variables for you to use later in your program, to save you some time.\n",
    "<br>Copy the list from the box below."
   ]
  },
  {
   "cell_type": "code",
   "execution_count": null,
   "metadata": {},
   "outputs": [],
   "source": [
    "x = 0\n",
    "y = 1\n",
    "WIDTH = 600\n",
    "HEIGHT = 400 \n",
    "PAD_WIDTH = 8\n",
    "PAD_HEIGHT = 80\n",
    "BALL_RADIUS = 20\n",
    "ball_vel = [0,0]\n",
    "paddle1_vel = [0,0]\n",
    "paddle2_vel = [0,0]\n",
    "BALL_POS = [WIDTH//2,HEIGHT//2]\n",
    "paddle1_pos = [WIDTH - PAD_WIDTH//2, HEIGHT//2]\n",
    "paddle2_pos = [PAD_WIDTH//2,         HEIGHT//2]\n",
    "\n",
    "game_builder.WIDTH = WIDTH\n",
    "game_builder.HEIGHT = HEIGHT \n",
    "game_builder.PAD_WIDTH = PAD_WIDTH\n",
    "game_builder.PAD_HEIGHT = PAD_HEIGHT\n",
    "game_builder.BALL_RADIUS = BALL_RADIUS\n",
    "game_builder.paddle1_pos = paddle1_pos\n",
    "game_builder.paddle2_pos = paddle2_pos\n"
   ]
  },
  {
   "cell_type": "markdown",
   "metadata": {
    "slideshow": {
     "slide_type": "subslide"
    }
   },
   "source": [
    "Paste the copied code *direcly underneath* the list of colours."
   ]
  },
  {
   "cell_type": "markdown",
   "metadata": {
    "slideshow": {
     "slide_type": "subslide"
    }
   },
   "source": [
    "##### What does this code do?\n",
    "You can now use these words instead of numbers in your program. \n",
    "\n",
    "For example, we can use the *variables*; `WIDTH` and `HEIGHT` to set the width and height of the game window.\n",
    "\n",
    "Earlier you used the line:\n",
    "<br>`window = pygame.display.set_mode((600, 400))`\n",
    "\n",
    "Instead you can use:\n",
    "<br>`window = pygame.display.set_mode((WIDTH, HEIGHT)`\n",
    "\n",
    "Replace the numbers next to `WIDTH` and `HEIGHT` in the list of variables in the code window:\n",
    "<br>`WIDTH = 600`\n",
    "<br>`HEIGHT = 400 `\n",
    "<br>with the numbers that you want.\n"
   ]
  },
  {
   "cell_type": "markdown",
   "metadata": {
    "slideshow": {
     "slide_type": "slide"
    }
   },
   "source": [
    "## Adding a Design to the Game Window\n",
    "No let's add a simple design to make the game window look more interesting.\n",
    "\n",
    "Copy the code from the box below:"
   ]
  },
  {
   "cell_type": "code",
   "execution_count": null,
   "metadata": {},
   "outputs": [],
   "source": [
    "draw_board()"
   ]
  },
  {
   "cell_type": "markdown",
   "metadata": {
    "slideshow": {
     "slide_type": "subslide"
    }
   },
   "source": [
    "Paste the copied code at the end of your program, above the line `pygame.display.update()`. \n",
    "<br>The pasted code should be at the same *indentation level* (distance from the left side of the screen) as the lines before and after it. \n",
    "\n",
    "```Python\n",
    "window.fill((100, 0, 100))\n",
    "draw_board()\n",
    "pygame.display.update()\n",
    "```"
   ]
  },
  {
   "cell_type": "markdown",
   "metadata": {
    "slideshow": {
     "slide_type": "subslide"
    }
   },
   "source": [
    "`pygame.display.update()` \n",
    "<br>Should always be the *very last* line at the end of the program. \n"
   ]
  },
  {
   "cell_type": "markdown",
   "metadata": {
    "slideshow": {
     "slide_type": "subslide"
    }
   },
   "source": [
    "In brackets after `draw_board` write the name of a colour from the list of variables.\n",
    "\n",
    "Example:\n",
    "\n",
    "`draw_board(green)`"
   ]
  },
  {
   "cell_type": "markdown",
   "metadata": {
    "slideshow": {
     "slide_type": "subslide"
    }
   },
   "source": [
    "Run your code (\"Ctrl\" + \"B)\""
   ]
  },
  {
   "cell_type": "markdown",
   "metadata": {
    "slideshow": {
     "slide_type": "subslide"
    }
   },
   "source": [
    "##### What does this code do?\n",
    "You should see a playing field design appear."
   ]
  },
  {
   "cell_type": "markdown",
   "metadata": {
    "slideshow": {
     "slide_type": "slide"
    }
   },
   "source": [
    "## Adding a Paddle \n",
    "In the game of pong there are two paddles that move up and down the sides of the screen. \n",
    "<br>The aim is to block the ball with the paddle to stop it rolling off the screen.\n",
    "![title](img/pong.png)"
   ]
  },
  {
   "cell_type": "markdown",
   "metadata": {
    "slideshow": {
     "slide_type": "subslide"
    }
   },
   "source": [
    "To draw a paddle, copy the code from the box below:"
   ]
  },
  {
   "cell_type": "code",
   "execution_count": null,
   "metadata": {},
   "outputs": [],
   "source": [
    "draw_paddle(PAD_HEIGHT, PAD_WIDTH, paddle1_pos, paddle1_vel)"
   ]
  },
  {
   "cell_type": "markdown",
   "metadata": {
    "slideshow": {
     "slide_type": "subslide"
    }
   },
   "source": [
    "Paste the copied code at the end of your program, above the line `pygame.display.update()`. \n",
    "<br>The pasted code should be at the same *indentation level* (distance from the left side of the screen) as the lines before and after it. \n",
    "\n"
   ]
  },
  {
   "cell_type": "markdown",
   "metadata": {
    "slideshow": {
     "slide_type": "subslide"
    }
   },
   "source": [
    "##### What does this code do?\n",
    "\n",
    "We can set five features of the paddle by putting them in brackets after `draw_paddle`:\n",
    " - *the paddle height* \n",
    " - *the paddle width* \n",
    " - *the start position of the paddle* \n",
    " - *the speed of the paddle*\n",
    " - *the colour of the paddle*\n",
    "\n"
   ]
  },
  {
   "cell_type": "markdown",
   "metadata": {
    "slideshow": {
     "slide_type": "subslide"
    }
   },
   "source": [
    "To set each number, we just use a variable from our list.\n",
    "\n",
    "For example, in our list of variables:\n",
    " - `PAD_HEIGHT`= 80\n",
    " - `PAD_WIDTH` = 8\n",
    "\n",
    "So \n",
    "<br>`draw_paddle(PAD_HEIGHT, PAD_WIDTH, paddle1_pos, paddle1_vel)` \n",
    "<br> gives us a paddle that has a __height__ of 80 pixels and __width__ of 8 pixels.\n",
    "\n",
    "The __start position__ of the paddle is set as the right edge of the window using `paddle1_pos`.\n",
    "\n",
    "The __start speed__ of the paddle is set to 0 (not moving) using  `paddle1_vel`."
   ]
  },
  {
   "cell_type": "markdown",
   "metadata": {
    "slideshow": {
     "slide_type": "subslide"
    }
   },
   "source": [
    "For now, we are only going to change the colour of the paddle.\n",
    "\n",
    "At the end of the words in the brackets after `draw_board`, add a comma, and put the name of a colour that you want the paddle to be. \n",
    "\n",
    "__Example__\n",
    "<br>`draw_paddle(PAD_HEIGHT, PAD_WIDTH, paddle1_pos, paddle1_vel, white)`"
   ]
  },
  {
   "cell_type": "markdown",
   "metadata": {
    "slideshow": {
     "slide_type": "subslide"
    }
   },
   "source": [
    "Run your code (\"Ctrl\" + \"B)\"\n",
    "\n",
    "This time, when the game window opens, you should see a rectangle appear on the left side.\n",
    "\n"
   ]
  },
  {
   "cell_type": "markdown",
   "metadata": {
    "slideshow": {
     "slide_type": "subslide"
    }
   },
   "source": [
    "If you want to make the paddle bigger or smaller, you can just change \n",
    "<br>`PAD_HEIGHT`= 80\n",
    "<br>or\n",
    "<br>`PAD_WIDTH` = 8\n",
    "<br>in the list of variables.\n",
    "\n",
    "Run your code again (\"Ctrl\" + \"B)\" to see the changes you have made in the game window."
   ]
  },
  {
   "cell_type": "markdown",
   "metadata": {
    "slideshow": {
     "slide_type": "slide"
    }
   },
   "source": [
    "## Making the Paddle Move\n",
    "\n",
    "Just like in any other computer game, we want to be able to control the objects we can see on the screen.\n",
    "\n",
    "First let's add controls to our game.\n",
    "\n"
   ]
  },
  {
   "cell_type": "markdown",
   "metadata": {
    "slideshow": {
     "slide_type": "subslide"
    }
   },
   "source": [
    "### Making a Games Controller\n",
    "Copy the code from the box below."
   ]
  },
  {
   "cell_type": "code",
   "execution_count": null,
   "metadata": {},
   "outputs": [],
   "source": [
    "pressed = pygame.key.get_pressed()\n",
    "if pressed[pygame.K_UP]: print('UP!')\n",
    "if pressed[pygame.K_DOWN]: print('DOWN!')"
   ]
  },
  {
   "cell_type": "markdown",
   "metadata": {
    "slideshow": {
     "slide_type": "subslide"
    }
   },
   "source": [
    "Paste the copied code at the end of your program, above the line `pygame.display.update()`. \n",
    "\n",
    "The pasted code should be at the same *indentation level* (distance from the left side of the screen) as the lines before and after it.  \n",
    "        \n",
    "In other words, the last part of your program in the code window should look like this:\n",
    "```python\n",
    "draw_paddle(PAD_HEIGHT, PAD_WIDTH, paddle1_pos, paddle1_vel, white)\n",
    "pressed = pygame.key.get_pressed()\n",
    "if pressed[pygame.K_UP]: print('UP!')\n",
    "if pressed[pygame.K_DOWN]: print('DOWN!')\n",
    "\n",
    "```"
   ]
  },
  {
   "cell_type": "markdown",
   "metadata": {
    "slideshow": {
     "slide_type": "subslide"
    }
   },
   "source": [
    "##### What does this code do?\n",
    "`if pressed[pygame.K_UP]: print('UP!')\n",
    "if pressed[pygame.K_DOWN]: print('DOWN!')`\n",
    "\n",
    "`K_UP` stands for up key. <br>If you press the up arrow on the keyboard (`if pressed[pygame.K_UP]`), the message `UP!` will appear at the bottom of the code window.\n",
    "\n",
    "`K_UP` stands for down key. <br>If you press the up arrow on the keyboard (`if pressed[pygame.K_DOWN]`), the message `DOWN!` will appear at the bottom of the code window.\n"
   ]
  },
  {
   "cell_type": "markdown",
   "metadata": {
    "slideshow": {
     "slide_type": "subslide"
    }
   },
   "source": [
    "__Try it now!__\n",
    "\n",
    "Run the code ('Ctrl'+'B').\n",
    "\n",
    "Press the up arrow on the keyboard.\n",
    "<br>Press the down arrow on the keyboard."
   ]
  },
  {
   "cell_type": "markdown",
   "metadata": {
    "slideshow": {
     "slide_type": "subslide"
    }
   },
   "source": [
    "__WOAH!__\n",
    "<br>It prints `UP!` and `DOWN!` LOADS of times. That's because the computer is checking if the key has been pressed as often as it possibly can. \n",
    "\n",
    "We need to slow down the rate that the computer checks the keys to something more reasonable.\n",
    "<br>To do that we need a timer...\n",
    "<br>...and for a timer we need a clock.\n"
   ]
  },
  {
   "cell_type": "markdown",
   "metadata": {
    "slideshow": {
     "slide_type": "subslide"
    }
   },
   "source": [
    "Copy the code from the box below. "
   ]
  },
  {
   "cell_type": "code",
   "execution_count": null,
   "metadata": {},
   "outputs": [],
   "source": [
    "clock.tick(60) "
   ]
  },
  {
   "cell_type": "markdown",
   "metadata": {
    "slideshow": {
     "slide_type": "subslide"
    }
   },
   "source": [
    "Paste the copied code at the end of your program, above the line `pygame.display.update()`. \n",
    "\n",
    "The pasted code should be at the same *indentation level* (distance from the left side of the screen) as the lines before and after it. \n",
    "\n",
    "The last five line of your code should now look like this: \n",
    "```Python\n",
    "    pressed = pygame.key.get_pressed()\n",
    "    if pressed[pygame.K_UP] & pressed[pygame.K_DOWN]: paddle1_vel[y] = 0\n",
    "    elif pressed[pygame.K_UP]: paddle1_vel[y] = -8\n",
    "    elif pressed[pygame.K_DOWN]: paddle1_vel[y] = 8\n",
    "    else: paddle1_vel[y] = 0\n",
    "    \n",
    "\tclock.tick(60)\n",
    "    pygame.display.update()\n",
    "```"
   ]
  },
  {
   "cell_type": "markdown",
   "metadata": {
    "slideshow": {
     "slide_type": "subslide"
    }
   },
   "source": [
    "__Try it now!__\n",
    "\n",
    "Run the code ('Ctrl'+'B').\n",
    "\n",
    "Press the up arrow on the keyboard.\n",
    "<br>Press the down arrow on the keyboard.\n",
    "\n",
    "Now the computer should inly print `UP!` or `DOWN!` a few times. A few times is OK. It means the computer can detect long or short touches. Try touching the up and down keysfor a very short time and a longer time."
   ]
  },
  {
   "cell_type": "markdown",
   "metadata": {
    "slideshow": {
     "slide_type": "subslide"
    }
   },
   "source": [
    "### Controlling the Paddle."
   ]
  },
  {
   "cell_type": "markdown",
   "metadata": {},
   "source": [
    "Now instead of just displaying the words `UP!` and `DOWN!`, let's use the arrow keys to move the paddle on the screen."
   ]
  },
  {
   "cell_type": "markdown",
   "metadata": {
    "slideshow": {
     "slide_type": "subslide"
    }
   },
   "source": [
    "## Core Programming Skill 2: `if`, `elif` and else.\n",
    "\n",
    "In the code window, delete the lines:\n",
    "<br>`if pressed[pygame.K_UP]: print('UP!')`\n",
    "<br>`if pressed[pygame.K_DOWN]: print('DOWN!')`"
   ]
  },
  {
   "cell_type": "markdown",
   "metadata": {
    "slideshow": {
     "slide_type": "subslide"
    }
   },
   "source": [
    "Copy the code from the cell below. "
   ]
  },
  {
   "cell_type": "code",
   "execution_count": null,
   "metadata": {},
   "outputs": [],
   "source": [
    "if pressed[pygame.K_UP] & pressed[pygame.K_DOWN]: paddle1_vel[y] = 0\n",
    "elif pressed[pygame.K_UP]: paddle1_vel[y] = -8\n",
    "elif pressed[pygame.K_DOWN]: paddle1_vel[y] = 8\n",
    "else: paddle1_vel[y] = 0"
   ]
  },
  {
   "cell_type": "markdown",
   "metadata": {
    "slideshow": {
     "slide_type": "subslide"
    }
   },
   "source": [
    "Paste the copied code at the end of your program, above the line `pygame.display.update()`. \n",
    "<br>The pasted code should be at the same *indentation level* (distance from the left side of the screen) as the lines before and after it."
   ]
  },
  {
   "cell_type": "markdown",
   "metadata": {
    "slideshow": {
     "slide_type": "subslide"
    }
   },
   "source": [
    "##### What does this code do?\n",
    "When we use `if`, `elif` (which is short for \"else if\") and `else`, the computer checks each line before moving on to the next. \n",
    "\n",
    "When it finds a line with a statement that is true, it runs that line and skips the rest of the `if`, `elif` and `else` comments. \n",
    "\n",
    "If __none__ of the lines that start with `if` or `elif` are __true__, the computer runs the line of code that starts with `else`. \n",
    "\n",
    "Here is an example..."
   ]
  },
  {
   "cell_type": "markdown",
   "metadata": {
    "slideshow": {
     "slide_type": "subslide"
    }
   },
   "source": [
    "```Python\n",
    "if pressed[pygame.K_UP] & pressed[pygame.K_DOWN]: paddle1_vel[y] = 0\n",
    "```\n",
    "...checks if __both the up & down buttons__ have been pressed at the same time (`pressed[pygame.K_UP] & pressed[pygame.K_DOWN]`. If they have, the paddle does not move."
   ]
  },
  {
   "cell_type": "markdown",
   "metadata": {
    "slideshow": {
     "slide_type": "subslide"
    }
   },
   "source": [
    "```Python\n",
    "elif pressed[pygame.K_UP]: paddle1_vel[y] = -8\n",
    "```\n",
    "...checks if __only the up__ button has bee pressed(pressed[pygame.K_UP]). If it has, it makes the distance bewtween the ball and the top of the screen smaller by -8 pixels or spaces."
   ]
  },
  {
   "cell_type": "markdown",
   "metadata": {
    "slideshow": {
     "slide_type": "subslide"
    }
   },
   "source": [
    "```Python\n",
    "elif pressed[pygame.K_DOWN]: paddle1_vel[y] = 8\n",
    "```\n",
    "...checks if __only the down__ button has bee pressed(pressed[pygame.K_UP]). If it has, it makes the distance bewtween the ball and the top of the screen bigger by -8 pixels or spaces."
   ]
  },
  {
   "cell_type": "markdown",
   "metadata": {
    "slideshow": {
     "slide_type": "subslide"
    }
   },
   "source": [
    "\n",
    "```Python\n",
    "else: paddle1_vel[y] = 0\n",
    "```\n",
    "The only other thing that can happen is that neither the up or down button was pressed. In that case, the paddle does not move."
   ]
  },
  {
   "cell_type": "markdown",
   "metadata": {
    "slideshow": {
     "slide_type": "subslide"
    }
   },
   "source": [
    "__Try it now!__\n",
    "\n",
    "Run the code ('Ctrl'+'B').\n",
    "\n",
    "Press the up arrow on the keyboard.\n",
    "<br>Press the down arrow on the keyboard.\n",
    "\n",
    "You should see the paddle move up and down. "
   ]
  },
  {
   "cell_type": "markdown",
   "metadata": {
    "slideshow": {
     "slide_type": "slide"
    }
   },
   "source": [
    "## Adding a Second Paddle.\n",
    "\n",
    "This time, instead of copying and pasting from the __*instruction window*__, you are going to copy code from your own program and recycle it. \n",
    "\n",
    "Find the line that says:\n",
    "```Python\n",
    "draw_paddle(PAD_HEIGHT, PAD_WIDTH, paddle1_pos, paddle1_vel, white)\n",
    "```\n",
    "in your program. <br>(The name of the colour used may be different in your version)."
   ]
  },
  {
   "cell_type": "markdown",
   "metadata": {
    "slideshow": {
     "slide_type": "subslide"
    }
   },
   "source": [
    "Copy this line of code.\n",
    "    \n",
    ">Copy the lines *from the code window* in the same way as you copy lines from the *instruction window*:\n",
    ">- Use the mouse to highlight the code by holding down the *left* mouse button and dragging the curser over the text you want to highlight.\n",
    ">- Press and hold \"Ctrl\" on the keyboard. While holding \"Ctrl\" press \"C\" on the keyboard."
   ]
  },
  {
   "cell_type": "markdown",
   "metadata": {
    "slideshow": {
     "slide_type": "subslide"
    }
   },
   "source": [
    "Paste the copied code directly after the line that you copied, so that you have two identical lines.\n",
    "<br>It should look like this:\n",
    "```Python\n",
    "draw_paddle(PAD_HEIGHT, PAD_WIDTH, paddle1_pos, paddle1_vel, white)\n",
    "draw_paddle(PAD_HEIGHT, PAD_WIDTH, paddle1_pos, paddle1_vel, black)\n",
    "```"
   ]
  },
  {
   "cell_type": "markdown",
   "metadata": {
    "slideshow": {
     "slide_type": "subslide"
    }
   },
   "source": [
    "We want the pad height, `PAD_HEIGHT` to be the same for each pad.\n",
    "\n",
    "We want the pad width `PAD_WIDTH` to be the same for each pad. \n",
    "\n",
    "We want the postion of each pad to be different (opposite ends of the window. So in the *second* `draw_paddle(...` command, change `paddle1_pos` to `paddle2_pos`.\n",
    " \n",
    "We want the movement of each pad to be different. So in the *second* `draw_paddle(...` command, change `paddle1_vel` to `paddle2_vel`."
   ]
  },
  {
   "cell_type": "markdown",
   "metadata": {
    "slideshow": {
     "slide_type": "subslide"
    }
   },
   "source": [
    "If you want the colour of each to be different, you can also enter a different colour foorm the list of variables.\n",
    "\n",
    "The two lines should now look something like this:"
   ]
  },
  {
   "cell_type": "code",
   "execution_count": null,
   "metadata": {},
   "outputs": [],
   "source": [
    "draw_paddle(PAD_HEIGHT, PAD_WIDTH, paddle1_pos, paddle1_vel, white)\n",
    "draw_paddle(PAD_HEIGHT, PAD_WIDTH, paddle2_pos, paddle2_vel, black)"
   ]
  },
  {
   "cell_type": "markdown",
   "metadata": {
    "slideshow": {
     "slide_type": "subslide"
    }
   },
   "source": [
    "__Try it now!__\n",
    "\n",
    "Run the code ('Ctrl'+'B').\n",
    "\n",
    "You should see a second paddle on the opposite side of the window."
   ]
  },
  {
   "cell_type": "markdown",
   "metadata": {
    "slideshow": {
     "slide_type": "subslide"
    }
   },
   "source": [
    "### Making the Second Paddle Move\n",
    "We now need to choose keys to make the new paddle move up and down.\n",
    "\n",
    "Choose two keys, on the oposite side of the keyboard to the arrows, to control the second paddle. For example you could use:\n",
    "- W for up\n",
    "- S for down\n",
    "as W is obove S."
   ]
  },
  {
   "cell_type": "markdown",
   "metadata": {
    "slideshow": {
     "slide_type": "subslide"
    }
   },
   "source": [
    "We will use the same code as we used to make the first paddle move but we will change the keys used to control the paddle.\n",
    "\n",
    "First, find the following four lines of code in the program in your *code window*.\n",
    "```Python\n",
    "if pressed[pygame.K_UP] & pressed[pygame.K_DOWN]: paddle1_vel[y] = 0\n",
    "elif pressed[pygame.K_UP]: paddle1_vel[y] = -8\n",
    "elif pressed[pygame.K_DOWN]: paddle1_vel[y] = 8\n",
    "else: paddle1_vel[y] = 0\n",
    "```"
   ]
  },
  {
   "cell_type": "markdown",
   "metadata": {
    "slideshow": {
     "slide_type": "subslide"
    }
   },
   "source": [
    "Copy the four lines of code. Paste the copied code underneath the fou lines you copied so that it looks like this:\n",
    "```Python\n",
    "if pressed[pygame.K_UP] & pressed[pygame.K_DOWN]: paddle1_vel[y] = 0\n",
    "elif pressed[pygame.K_UP]: paddle1_vel[y] = -8\n",
    "elif pressed[pygame.K_DOWN]: paddle1_vel[y] = 8\n",
    "else: paddle1_vel[y] = 0\n",
    "\n",
    "if pressed[pygame.K_UP] & pressed[pygame.K_DOWN]: paddle1_vel[y] = 0\n",
    "elif pressed[pygame.K_UP]: paddle1_vel[y] = -8\n",
    "elif pressed[pygame.K_DOWN]: paddle1_vel[y] = 8\n",
    "else: paddle1_vel[y] = 0\n",
    "```"
   ]
  },
  {
   "cell_type": "markdown",
   "metadata": {
    "slideshow": {
     "slide_type": "subslide"
    }
   },
   "source": [
    "In the second of the two groups of four lines:\n",
    "1. every time you see `paddle1`, you should change it to `paddle2`. <br> This sets up the control of the second paddle. \n",
    "1. every tine you see `K_UP` change it to the key you want to use to move the paddle up. <br>e.g. to change it to letter S, change `K_UP` to `K_s`.\n",
    "1. every tine you see `K_DOWN` change it to the key you want to use to move the paddle down. <br>e.g. to change it to letter W change `K_DOWN` to `K_w`.\n",
    "\n",
    "When typing the letter you wan to use, put a lower case (not capital) letter."
   ]
  },
  {
   "cell_type": "markdown",
   "metadata": {
    "slideshow": {
     "slide_type": "subslide"
    }
   },
   "source": [
    "__Try it now!__\n",
    "\n",
    "Run the code ('Ctrl'+'B').\n",
    "\n",
    "When the window opens, you should be able to control the second paddle using the kes you have set."
   ]
  },
  {
   "cell_type": "markdown",
   "metadata": {
    "slideshow": {
     "slide_type": "slide"
    }
   },
   "source": [
    "## Adding a Ball.\n",
    "Now we need a ball to play the game with. \n",
    "\n",
    "Copy the code from the box below."
   ]
  },
  {
   "cell_type": "code",
   "execution_count": null,
   "metadata": {
    "slideshow": {
     "slide_type": "subslide"
    }
   },
   "outputs": [],
   "source": [
    "draw_ball(BALL_RADIUS)"
   ]
  },
  {
   "cell_type": "markdown",
   "metadata": {
    "slideshow": {
     "slide_type": "subslide"
    }
   },
   "source": [
    "Paste the code in the code window, *underneath* the two lines that start with `draw_paddle(...`"
   ]
  },
  {
   "cell_type": "markdown",
   "metadata": {
    "slideshow": {
     "slide_type": "subslide"
    }
   },
   "source": [
    "##### What does this code do?\n",
    "`draw_ball(BALL_RADIUS)`\n",
    "<br>...draws a ball at the centre of the window. The radius (width) of the ball is the number next to `BALL_RADIUS` in the list of *variables* at the start of your program. "
   ]
  },
  {
   "cell_type": "markdown",
   "metadata": {
    "slideshow": {
     "slide_type": "subslide"
    }
   },
   "source": [
    "Run the code ('Ctrl'+'B').\n",
    "\n",
    "When the window opens, you should see a green ball."
   ]
  },
  {
   "cell_type": "markdown",
   "metadata": {
    "collapsed": true,
    "slideshow": {
     "slide_type": "subslide"
    }
   },
   "source": [
    "### Changing the size of the ball.\n",
    "If you want to make the ball bigger, make the number next to `BALL_RADIUS` bigger.\n",
    "<br>If you want to make the ball smaller, make the number next to `BALL_RADIUS` smaller.\n",
    "\n",
    "Run the code ('Ctrl'+'B') again to apply your changes."
   ]
  },
  {
   "cell_type": "markdown",
   "metadata": {
    "slideshow": {
     "slide_type": "subslide"
    }
   },
   "source": [
    "### Changing the colour of the ball.\n",
    "You can change the colour of the ball by adding a comma, then the colour you want (from the colour in the list of variables) in the brackets after the words `draw_ball`.\n",
    "\n",
    "For example to make the ball white:\n",
    "<br>`draw_ball(BALL_RADIUS, white)`\n",
    "\n",
    "Run the code ('Ctrl'+'B') again to apply your changes."
   ]
  },
  {
   "cell_type": "markdown",
   "metadata": {
    "slideshow": {
     "slide_type": "subslide"
    }
   },
   "source": [
    "### Making the ball move\n",
    "We want:\n",
    "- the paddles to move when we tell them to\n",
    "- the ball to move by itself.\n",
    "\n",
    "So we control the movement of the ball in a different way to the paddles.\n",
    "\n"
   ]
  },
  {
   "cell_type": "markdown",
   "metadata": {
    "slideshow": {
     "slide_type": "subslide"
    }
   },
   "source": [
    "In the code window, in the brackets after `draw_ball` ad a comma and type or copy and paste: `random_movement=True`.\n",
    "\n",
    "__Example:__\n",
    "<br>`draw_ball(BALL_RADIUS, white, random_movement=True)`\n",
    "\n",
    "Run the code ('Ctrl'+'B') again to apply your changes."
   ]
  },
  {
   "cell_type": "markdown",
   "metadata": {
    "slideshow": {
     "slide_type": "subslide"
    }
   },
   "source": [
    "##### What does this code do?\n",
    "`random_movement` tells the ball to move from the centre position, in a random direction, with a random speed, when the game starts.  \n"
   ]
  },
  {
   "cell_type": "markdown",
   "metadata": {
    "slideshow": {
     "slide_type": "slide"
    }
   },
   "source": [
    "## Stopping the ball from going through the ceiling.\n",
    "When the ball goes off the side of the window it is lost.\n",
    "<br>We want the ball to bounce off the top and bottom of the window and use the pads at each end to stop it from rolling off the sides of the screen."
   ]
  },
  {
   "cell_type": "markdown",
   "metadata": {
    "slideshow": {
     "slide_type": "subslide"
    }
   },
   "source": [
    "In the code window, in the brackets after `draw_ball` add a comma and type or copy and paste: `bounce_vert=True`.\n",
    "\n",
    "__Example:__\n",
    "<br>`draw_ball(BALL_RADIUS, white, random_movement=True, bounce_vert=True)`"
   ]
  },
  {
   "cell_type": "markdown",
   "metadata": {
    "slideshow": {
     "slide_type": "subslide"
    }
   },
   "source": [
    "##### What does this code do?\n",
    "`bounce_vert` tells the ball to bounce if it hits the top or bottom edge of the window.\n",
    "\n",
    "Run the code ('Ctrl'+'B') again to apply your changes."
   ]
  },
  {
   "cell_type": "markdown",
   "metadata": {
    "collapsed": true,
    "slideshow": {
     "slide_type": "slide"
    }
   },
   "source": [
    "## Using the paddles to stop the ball. \n",
    "Notice that the ball still does not bounce off the paddles; it goes straight through them.\n",
    "\n",
    "Let's add some code to make the ball bounce when a collision with a pad happens.\n",
    "\n",
    "Copy the code from the box below:"
   ]
  },
  {
   "cell_type": "code",
   "execution_count": null,
   "metadata": {
    "slideshow": {
     "slide_type": "subslide"
    }
   },
   "outputs": [],
   "source": [
    "bounce_pad_collision(paddle1_pos)\n",
    "bounce_pad_collision(paddle2_pos)"
   ]
  },
  {
   "cell_type": "markdown",
   "metadata": {
    "slideshow": {
     "slide_type": "subslide"
    }
   },
   "source": [
    "Paste the copied code directly below the line that starts with `draw_ball(...`. <br>The pasted code should be at the same *indentation level* (distance from the left side of the screen) as the lines above and below it. "
   ]
  },
  {
   "cell_type": "markdown",
   "metadata": {
    "slideshow": {
     "slide_type": "subslide"
    }
   },
   "source": [
    "##### What does this code do?\n",
    "`bounce_pad_collision(paddle1_pos)` makes the ball bounce when it hits the right paddle.\n",
    "<br>`bounce_pad_collision(paddle2_pos)` makes the ball bounce when it hits the left paddle."
   ]
  },
  {
   "cell_type": "markdown",
   "metadata": {
    "slideshow": {
     "slide_type": "subslide"
    }
   },
   "source": [
    "Run the code ('Ctrl'+'B') again to apply your changes.\n",
    "\n",
    "When the window appears, try moving the paddles up and down to hit the ball.\n",
    "\n",
    "If you miss the ball, it goes off the screen.\n",
    "\n"
   ]
  },
  {
   "cell_type": "markdown",
   "metadata": {
    "slideshow": {
     "slide_type": "subslide"
    }
   },
   "source": [
    "Let's add a line of code to reset the ball to the centre if it goes off the screen.\n",
    "\n",
    "Copy the code from the box below:"
   ]
  },
  {
   "cell_type": "code",
   "execution_count": null,
   "metadata": {
    "slideshow": {
     "slide_type": "subslide"
    }
   },
   "outputs": [],
   "source": [
    "ball_reset_on_win()"
   ]
  },
  {
   "cell_type": "markdown",
   "metadata": {
    "slideshow": {
     "slide_type": "subslide"
    }
   },
   "source": [
    "Paste the copied code directly below the two lines that start with `bounce_pad_collision(...`. <br>The pasted code should be at the same *indentation level* (distance from the left side of the screen) as the lines above and below it."
   ]
  },
  {
   "cell_type": "markdown",
   "metadata": {
    "slideshow": {
     "slide_type": "-"
    }
   },
   "source": [
    "ball_reset_on_win()\n"
   ]
  },
  {
   "cell_type": "markdown",
   "metadata": {
    "slideshow": {
     "slide_type": "subslide"
    }
   },
   "source": [
    "Run the code ('Ctrl'+'B') again to apply your changes.\n",
    "\n",
    "When the window appears, try moving the paddles up and down to hit the ball.\n",
    "\n",
    "If you miss the ball, it should return to he centre of the window."
   ]
  },
  {
   "cell_type": "markdown",
   "metadata": {
    "slideshow": {
     "slide_type": "subslide"
    }
   },
   "source": [
    "You have now buit your first computer game!\n",
    "\n",
    "The last thing we are going to do as add a counter to keep track of the score..."
   ]
  },
  {
   "cell_type": "markdown",
   "metadata": {
    "slideshow": {
     "slide_type": "slide"
    }
   },
   "source": [
    "## Adding a Score Counter \n",
    "By adding a counter, you can play the computer game with two players and see who it winning on the screen. "
   ]
  },
  {
   "cell_type": "code",
   "execution_count": null,
   "metadata": {
    "slideshow": {
     "slide_type": "subslide"
    }
   },
   "outputs": [],
   "source": [
    "Copy the code from the box below."
   ]
  },
  {
   "cell_type": "code",
   "execution_count": null,
   "metadata": {},
   "outputs": [],
   "source": [
    "update_scores() "
   ]
  },
  {
   "cell_type": "markdown",
   "metadata": {
    "slideshow": {
     "slide_type": "subslide"
    }
   },
   "source": [
    "##### What does this code do?\n",
    "`update_scores()` \n",
    "<br>...makes the score appear on the screen. The score will be incremented by 1 point every time you oponent misses the ball and it goes off the screen."
   ]
  },
  {
   "cell_type": "markdown",
   "metadata": {
    "slideshow": {
     "slide_type": "subslide"
    }
   },
   "source": [
    "### Customising the score counter.\n",
    "You can change the __font__ and the __font size__ of the score counter. \n",
    "\n",
    "#### Changing the font\n",
    "In the code window, in the brackets after `draw_ball` add a comma and type `font=` followed by the font you want in \"\" quotation marks.\n",
    "<br>Possible options include:\n",
    " - \"Arial\"\n",
    " - \"monospace\"\n",
    "For example, to change the font to Arial:\n",
    "`update_scores(font=\"Arial\")`\n",
    " \n",
    "#### Changing the font size\n",
    "In the code window, in the brackets after `draw_ball` add a comma and type `font_size=` followed by the font size want. The defaul size is 20.  \n",
    "For example, to show the score in Arial font, size 25:\n",
    "`update_scores(font=\"Arial\", font_size=25)` \n",
    " "
   ]
  },
  {
   "cell_type": "markdown",
   "metadata": {
    "slideshow": {
     "slide_type": "subslide"
    }
   },
   "source": [
    "Run the code ('Ctrl'+'B') again to apply your changes.\n"
   ]
  },
  {
   "cell_type": "markdown",
   "metadata": {
    "slideshow": {
     "slide_type": "slide"
    }
   },
   "source": [
    "## Conclusion.\n",
    "I hope you have enjoyed building your first computer game. <br>Now try playing it with two people! :)"
   ]
  },
  {
   "cell_type": "code",
   "execution_count": null,
   "metadata": {},
   "outputs": [],
   "source": []
  }
 ],
 "metadata": {
  "celltoolbar": "Slideshow",
  "kernelspec": {
   "display_name": "Python 3",
   "language": "python",
   "name": "python3"
  },
  "language_info": {
   "codemirror_mode": {
    "name": "ipython",
    "version": 3
   },
   "file_extension": ".py",
   "mimetype": "text/x-python",
   "name": "python",
   "nbconvert_exporter": "python",
   "pygments_lexer": "ipython3",
   "version": "3.6.2"
  }
 },
 "nbformat": 4,
 "nbformat_minor": 2
}
