{
 "cells": [
  {
   "cell_type": "markdown",
   "metadata": {},
   "source": [
    "# Programming a Computer Game \n",
    "In this tutorial, you will learn to build your own computer game.\n",
    "Like spoken languages, computer programs are written in different programming languages.\n",
    "\n",
    "Today we are going to write code using a programming language called Python. Don't worry too much if the words feel unfamiliar. Today is on overview of how to build a computer program. \n",
    "\n",
    "On your screen you can see two windows. This is the __instructions__ window. The other window shown is the __code__ window.\n",
    "\n",
    "Instructions will be shown in the instructions window. The instructions will appear one by one in the slides and I will explain each step. \n",
    "\n",
    "In this window there are also sections of code for you to copy. You will copy this code to the __code window__ to \"run\" the code. \"Running\" the code makes the computer output what the code tells it to do. We will copy one section at a time, to build up a complete computer program, piece by piece. \n",
    "\n",
    "Inside the code window there are three boxes: \n",
    "- Large box (Editor): You will *write* your code in here. \n",
    "- Medium box (IPython console): The *output* of your code will appear here.\n",
    "- Small box (Variable explorer): You will not need to use this box today.\n",
    "\n"
   ]
  },
  {
   "cell_type": "markdown",
   "metadata": {},
   "source": [
    "In the instructions window, you can tell which parts are code and which are not, as code has a box around it, like this:"
   ]
  },
  {
   "cell_type": "code",
   "execution_count": 1,
   "metadata": {},
   "outputs": [
    {
     "name": "stdout",
     "output_type": "stream",
     "text": [
      "hello world\n"
     ]
    }
   ],
   "source": [
    "print('hello world')"
   ]
  },
  {
   "cell_type": "markdown",
   "metadata": {},
   "source": [
    "To find out what the code in the box above does, *copy and paste* it to the code window.\n",
    "\n",
    "To copy the code:\n",
    "- Use the mouse to highlight the code by holding down the *left* mouse button and dragging the curser over the text you want to highlight.\n",
    "- Press and hold \"Ctrl\" on the keyboard. While holding \"Ctrl\" press \"C\" on the keyboard.\n",
    "\n",
    "<br>\n",
    "To paste the code:\n",
    "- Use the mouse to click on the large box in the code window.\n",
    "- Press and hold \"Ctrl\" on the keyboard. While holding \"Ctrl\" press \"V\" on the keyboard.\n"
   ]
  },
  {
   "cell_type": "markdown",
   "metadata": {
    "collapsed": true
   },
   "source": [
    "At the top of the code window you will see a green traingle like this:\n",
    "\n",
    "![title](img/run_code.png)\n",
    "\n",
    "Click on this to run the code you have copied.\n",
    "<br>You will see the output appear in the medium-sized box. The output is the words between the \"\" quotation marks that we wrote in the large box. \n",
    "\n",
    "Try changing the words to something else, your name for example.\n",
    "<br>Run the code again (click on the green triangle) to see how the output changes. "
   ]
  },
  {
   "cell_type": "markdown",
   "metadata": {
    "collapsed": true
   },
   "source": [
    "## Getting Started\n",
    "First we need a screen or window in which to play the game.\n",
    "<br>Delete the line beginning with `print` from the code window.\n",
    "<br>Copy and paste the code from the box below in the code window.\n",
    "<br>Click on the green triangle"
   ]
  },
  {
   "cell_type": "code",
   "execution_count": null,
   "metadata": {
    "collapsed": true
   },
   "outputs": [],
   "source": [
    "import pygame\n",
    "\n",
    "screen = pygame.display.set_mode((640, 400))"
   ]
  },
  {
   "cell_type": "markdown",
   "metadata": {},
   "source": [
    "##### What does this code do?\n",
    "`import pygame` lets us use some useful *commands* in our program.\n",
    "<br>*Commands* are pieces of code just pieces of code that tell the computer to do something.\n",
    "\n",
    "`screen = pygame.display.set_mode((640, 400))`\n",
    "<br>...is a command.\n",
    "<br>It creates a screen with size 640 x 400 pixels."
   ]
  },
  {
   "cell_type": "markdown",
   "metadata": {},
   "source": [
    "The screen appears briefly and then disappears.\n",
    "<br>A message appears in the output box at the bottom of the screen saying the program has finished.\n",
    "\n",
    "We dont want the program to finish. We want it to keep running so that the screen remains visible and we can see our game.\n",
    "\n",
    "We need to tell the computer to do that. \n",
    "\n",
    "Copy and paste the code from the box below *underneath* the code you have already written already in the code window. "
   ]
  },
  {
   "cell_type": "code",
   "execution_count": null,
   "metadata": {},
   "outputs": [],
   "source": [
    "finished = False\n",
    "\n",
    "while not finished:\n",
    "    \n",
    "    event = pygame.event.poll()\n",
    "    if event.type == pygame.QUIT:\n",
    "        \n",
    "        finished = True"
   ]
  },
  {
   "cell_type": "markdown",
   "metadata": {},
   "source": [
    "##### What does this code do?\n",
    "\n",
    "__Keeping the screen visible__\n",
    "<br>`finished = False` tells the computer that we are not finished (i.e. we don't want to end the program).\n",
    "\n",
    "__Truning the screen off__\n",
    "<br>We now need a way to turn the screen off. Otherwise the computer will try to keep it there forever.\n",
    "\n",
    "We can tell the computer to look out for 'events' that happen to it such as when we click the mouse or  press a button on the keyboard. \n",
    "\n",
    "`while not finished:\n",
    "\tevent = pygame.event.poll()` \n",
    "    \n",
    "...tells the computer that while the program is `not finished` it should look out for events. \n",
    "\n",
    "When we click on the X in the top left corner of the screen, an event called `pygame.QUIT` happens.\n",
    "\n",
    "We tell the computer that if `pygame.QUIT` happens, it should finish the program and close the screen using the code:\n",
    "\n",
    "\n",
    "```if event.type == pygame.QUIT:\n",
    "      finished = True```\n"
   ]
  },
  {
   "cell_type": "markdown",
   "metadata": {},
   "source": [
    "Press 'Ctrl' + 'B' to run your code again.\n",
    "<br>Now the screen remains visible.\n",
    "<br>If you click the x in the top left hand corner, the screen closes and a message appears at the bottom of the code window saying the program has finished. \n"
   ]
  },
  {
   "cell_type": "code",
   "execution_count": null,
   "metadata": {},
   "outputs": [],
   "source": []
  },
  {
   "cell_type": "markdown",
   "metadata": {},
   "source": [
    "Try changing the numbers.\n",
    "\n",
    "Run the code again (green triangle) to change the screen size. \n",
    "\n",
    "Now copy the code from the box below and paste it *underneath* the code you have written in the code window.\n",
    "<br>Click on the green triangle to run the code"
   ]
  },
  {
   "cell_type": "code",
   "execution_count": null,
   "metadata": {},
   "outputs": [],
   "source": []
  },
  {
   "cell_type": "code",
   "execution_count": null,
   "metadata": {
    "collapsed": true
   },
   "outputs": [],
   "source": [
    "pygame.display.set_caption('Hello World')"
   ]
  },
  {
   "cell_type": "markdown",
   "metadata": {},
   "source": [
    "##### What does this code do?\n",
    "`pygame.display.set_caption('Hello World')` chnages the title of the screen to `Hello World`.\n",
    "<br>In the code window, try replacing the words `Hello World` with a title of your choice. \n",
    "<br>Run the code again (green triangle) to rename your window.\n",
    "\n",
    "Notice that this command also starts with `pygame_display_set...`\n",
    "<br>There are lots of other things we can write after this to chnage the settings of the display. \n",
    "<br>We will look at some more later. \n",
    "\n",
    "If you try to close the screen by clicking on the window’s close button, you will notice that it does nothing. We will make a change to our program that fixes that soon."
   ]
  },
  {
   "cell_type": "markdown",
   "metadata": {
    "collapsed": true
   },
   "source": [
    "A black screen is a bit boring so lets give it some colour.\n",
    "<br>Copy and paste the code from the box below underneath your code in the code window.\n"
   ]
  },
  {
   "cell_type": "code",
   "execution_count": null,
   "metadata": {},
   "outputs": [],
   "source": [
    "screen.fill((0, 0, 0))"
   ]
  },
  {
   "cell_type": "markdown",
   "metadata": {},
   "source": [
    "##### What does this code do?\n",
    "<br>The three numbers set the amout of red, the amoutn of gren and the amoutn of blue that get mixed togetehr to create the colour of the screen.\n",
    "<br>Each number must be between 0 and 255\n",
    "<br>`((0,0,0))` creates a black scren\n",
    "<br> `((255, 25, 255)` creates a white scren\n",
    "\n",
    "Try some different number combinations until you get a colour that your like. "
   ]
  },
  {
   "cell_type": "markdown",
   "metadata": {},
   "source": [
    "## Adding an Object to the Game\n",
    "\n",
    "We are going to add a shape to the screen.  \n",
    "<br>Copy and paste the code from the box below underneath your code in the code window."
   ]
  },
  {
   "cell_type": "code",
   "execution_count": null,
   "metadata": {},
   "outputs": [],
   "source": [
    "pygame.draw.circle(screen, \n",
    "                       (250, 0, 0),\n",
    "                       [300, 300], \n",
    "                       20)\n",
    "    \n",
    "    pygame.display.flip()"
   ]
  },
  {
   "cell_type": "markdown",
   "metadata": {},
   "source": [
    "##### What does this code do?\n",
    "As you might guess, this code draws a circle.\n",
    "<br>Theere are similar comands to draw other shapes. \n",
    "<br>We will use more of these later"
   ]
  }
 ],
 "metadata": {
  "kernelspec": {
   "display_name": "Python 3",
   "language": "python",
   "name": "python3"
  },
  "language_info": {
   "codemirror_mode": {
    "name": "ipython",
    "version": 3
   },
   "file_extension": ".py",
   "mimetype": "text/x-python",
   "name": "python",
   "nbconvert_exporter": "python",
   "pygments_lexer": "ipython3",
   "version": "3.6.2"
  }
 },
 "nbformat": 4,
 "nbformat_minor": 2
}
