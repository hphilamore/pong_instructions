{
 "cells": [
  {
   "cell_type": "markdown",
   "metadata": {},
   "source": [
    "# Programming a Computer Game \n",
    "In this tutorial, you will learn to build your own computer game.\n",
    "<br>The computer game is based on 'Pong'.\n",
    "You may have seen or played this game before.\n",
    "![title](img/pong.png)\n",
    "\n",
    "\n",
    "Like spoken languages, computer programs are written in different programming languages.\n",
    "\n",
    "Today we are going to write code using a programming language called __Python__. \n",
    "\n",
    "You will learn some core programming skills that are used to build almost every computer program.\n",
    "\n",
    "On your screen you can see two windows. This is the __instructions__ window. The other window shown is the __code__ window.\n",
    "\n",
    "Instructions will be shown in the instructions window. The instructions will also appear one by one in the slides and I will explain each step. \n",
    "\n",
    "There are laos section of computer code in the instruction window for you to copy. You will copy this code to the __code window__ to \"run\" the code. \"Running\" the code makes the computer output what the code tells it to do. We will copy one section at a time, to build up a complete computer program, piece by piece. "
   ]
  },
  {
   "cell_type": "markdown",
   "metadata": {},
   "source": [
    "In the instructions window, you can tell which parts are code and which are not, as code has a box around it, like this:"
   ]
  },
  {
   "cell_type": "code",
   "execution_count": 7,
   "metadata": {},
   "outputs": [
    {
     "name": "stdout",
     "output_type": "stream",
     "text": [
      "hello world\n"
     ]
    }
   ],
   "source": [
    "print('hello world')"
   ]
  },
  {
   "cell_type": "markdown",
   "metadata": {},
   "source": [
    "To find out what the code in the box above does, *copy and paste* it to the code window.\n",
    "\n",
    "To copy the code:\n",
    "- Use the mouse to highlight the code by holding down the *left* mouse button and dragging the curser over the text you want to highlight.\n",
    "- Press and hold \"Ctrl\" on the keyboard. While holding \"Ctrl\" press \"C\" on the keyboard.\n",
    "\n",
    "<br>\n",
    "To paste the code:\n",
    "- Use the left mouse button to click on the code window.\n",
    "- Press and hold \"Ctrl\" on the keyboard. While holding \"Ctrl\" press \"V\" on the keyboard.\n"
   ]
  },
  {
   "cell_type": "markdown",
   "metadata": {
    "collapsed": true
   },
   "source": [
    "T run the code:\n",
    "- Press and hold \"Ctrl\" on the keyboard. While holding \"Ctrl\" press \"B\" on the keyboard.\n",
    "\n",
    "You will see the output appear at the bottom of the code window.\n",
    "\n",
    "The computer outputs the output is the words between the '' quotation marks in the code that you copied.  \n",
    "\n",
    "Try changing the words to something else, your name for example.\n",
    "<br>Run the code again (\"Ctrl\" + \"B\") to see how the output changes. "
   ]
  },
  {
   "cell_type": "markdown",
   "metadata": {
    "collapsed": true
   },
   "source": [
    "## Getting Started\n",
    "First we need some set-up code to help us build the game.\n",
    "\n",
    "Delete the line beginning with `print` from the code window.\n",
    "\n",
    "Copy and the code from the box below and paste it in the code window."
   ]
  },
  {
   "cell_type": "code",
   "execution_count": 8,
   "metadata": {},
   "outputs": [
    {
     "ename": "ModuleNotFoundError",
     "evalue": "No module named 'pygame'",
     "output_type": "error",
     "traceback": [
      "\u001b[0;31m---------------------------------------------------------------------------\u001b[0m",
      "\u001b[0;31mModuleNotFoundError\u001b[0m                       Traceback (most recent call last)",
      "\u001b[0;32m<ipython-input-8-ea014abafcb9>\u001b[0m in \u001b[0;36m<module>\u001b[0;34m()\u001b[0m\n\u001b[1;32m      1\u001b[0m \u001b[0;32mimport\u001b[0m \u001b[0mrandom\u001b[0m\u001b[0;34m\u001b[0m\u001b[0m\n\u001b[0;32m----> 2\u001b[0;31m \u001b[0;32mimport\u001b[0m \u001b[0mpygame\u001b[0m\u001b[0;34m,\u001b[0m \u001b[0msys\u001b[0m\u001b[0;34m\u001b[0m\u001b[0m\n\u001b[0m\u001b[1;32m      3\u001b[0m \u001b[0;32mfrom\u001b[0m \u001b[0mpygame\u001b[0m\u001b[0;34m.\u001b[0m\u001b[0mlocals\u001b[0m \u001b[0;32mimport\u001b[0m \u001b[0;34m*\u001b[0m\u001b[0;34m\u001b[0m\u001b[0m\n\u001b[1;32m      4\u001b[0m \u001b[0;32mimport\u001b[0m \u001b[0mgame_builder\u001b[0m\u001b[0;34m\u001b[0m\u001b[0m\n\u001b[1;32m      5\u001b[0m \u001b[0;32mfrom\u001b[0m \u001b[0mgame_builder\u001b[0m \u001b[0;32mimport\u001b[0m \u001b[0;34m*\u001b[0m\u001b[0;34m\u001b[0m\u001b[0m\n",
      "\u001b[0;31mModuleNotFoundError\u001b[0m: No module named 'pygame'"
     ]
    }
   ],
   "source": [
    "import random\n",
    "import pygame, sys\n",
    "from pygame.locals import *\n",
    "import game_builder\n",
    "from game_builder import *\n",
    "pygame.init()\n",
    "clock = pygame.time.Clock()"
   ]
  },
  {
   "cell_type": "markdown",
   "metadata": {},
   "source": [
    "##### What does this code do?\n",
    "Notice that this code contains the word `import` multiple times.\n",
    "\n",
    "The code lets us *import* some useful *commands* to use in our program.\n",
    "\n",
    "*Commands* are pieces of code that tell the computer to do something."
   ]
  },
  {
   "cell_type": "markdown",
   "metadata": {},
   "source": [
    "## Your First Command"
   ]
  },
  {
   "cell_type": "markdown",
   "metadata": {},
   "source": [
    "The code in the box below is a command."
   ]
  },
  {
   "cell_type": "code",
   "execution_count": null,
   "metadata": {
    "collapsed": true
   },
   "outputs": [],
   "source": [
    "window = pygame.display.set_mode((600, 400))\n",
    "game_builder.window = window"
   ]
  },
  {
   "cell_type": "markdown",
   "metadata": {},
   "source": [
    "##### What does this code do?\n",
    "It creates a window with size 600 x 400 pixels.\n",
    "<br>This window will contain your computer game.\n",
    "\n",
    "Copy the code (\"Ctrl\" + \"C\"). "
   ]
  },
  {
   "cell_type": "markdown",
   "metadata": {},
   "source": [
    "Paste the copied code (\"Ctrl\" + \"V\") *directly underneath* the code you have already written already in the code window. \n",
    "\n",
    "Your program should now look something like this:\n",
    "![setup_screenshot](img/setup_screenshot.png)\n",
    "\n",
    "Press 'Ctrl' + 'B' to run your code."
   ]
  },
  {
   "cell_type": "markdown",
   "metadata": {},
   "source": [
    "Notice that the window appears, then disappears again.\n",
    "\n",
    "Let's add some code to:\n",
    " - keep the window open\n",
    " - allow us to close it when we want to\n",
    " \n",
    "Copy the code from the box below (\"Ctrl\" + \"C\"). "
   ]
  },
  {
   "cell_type": "code",
   "execution_count": null,
   "metadata": {
    "collapsed": true
   },
   "outputs": [],
   "source": [
    "while True:\n",
    "    \n",
    "    if event.type == pygame.QUIT:        \n",
    "        pygame.quit()\n",
    "        sys.exit()"
   ]
  },
  {
   "cell_type": "markdown",
   "metadata": {},
   "source": [
    "Paste the copied code (\"Ctrl\" + \"V\") *directly underneath* the code you have already written already in the code window. \n",
    "\n",
    "##### What does this code do?\n",
    "```Python\n",
    "while True:\n",
    "```\n",
    "This is widely used computer code.\n",
    "It tells the computer to do everything that is:\n",
    "1. written after it\n",
    "1. indented (moved 4 space to the right)\n",
    "repeatedly, until we tell it to __stop__.\n",
    "\n",
    "##### How do we tell it to stop?\n",
    "```Python\n",
    "pygame.quit()\n",
    "sys.exit()\n",
    "```\n",
    "\n",
    "...tells the computer to `quit` and `exit` the program. \n",
    "\n",
    "When we put these lines of code after the lines:\n",
    "```Python\n",
    " event = pygame.event.poll()\n",
    " if event.type == pygame.QUIT:`\n",
    " ```\n",
    "...it tells the computer to `quit` and `exit` the program *if* we click on the x button in the top left corner of the game window.         \n",
    "\n",
    "Press 'Ctrl' + 'B' to run your code again.\n",
    "\n",
    "The window should appear again. \n",
    "\n",
    "Click on the x button in the top left of the window to close it. \n"
   ]
  },
  {
   "cell_type": "markdown",
   "metadata": {},
   "source": [
    "## Customising the Game Window\n",
    "Let's change the screen to look how you choose it to. \n",
    "\n",
    "First let's change it's size.\n",
    "\n",
    "### Changing the window size\n",
    "In the code window, in the line:\n",
    "<br>`screen = pygame.display.set_mode((600, 400))`\n",
    "<br>the numbers 640 is the width of the screen, 400 is the width of the screen in pixels.\n",
    "\n",
    "Change the numbers; be careful that you don't choose numbers so small that you can't see the screen or so big that you can't see anythong else!\n",
    "\n",
    "Run the code again ('Ctrl'+ 'B') to see your changes."
   ]
  },
  {
   "cell_type": "markdown",
   "metadata": {},
   "source": [
    "### Changing the window colour\n",
    "The screen is looking a bit boring. \n",
    "<br>Let's add some colour.\n",
    "\n",
    "Copy and the code from the box below."
   ]
  },
  {
   "cell_type": "code",
   "execution_count": null,
   "metadata": {
    "collapsed": true
   },
   "outputs": [],
   "source": [
    "window.fill((255, 255, 255))\n",
    "\n",
    "pygame.display.update()"
   ]
  },
  {
   "cell_type": "markdown",
   "metadata": {},
   "source": [
    "Paste the copied code at the very end of the program in the code window. <br>The pasted code should be at the same *indentation level* (distance from the left side of the screen) as the line:\n",
    "`if event.type == pygame.QUIT:`.\n",
    "        \n",
    "In other words, the last part of your program in the code window should look like this:\n",
    "```python\n",
    "while True:\n",
    "    \n",
    "    event = pygame.event.poll()\n",
    "    if event.type == pygame.QUIT:    \t\n",
    "        pygame.quit()\n",
    "        sys.exit()\n",
    "\n",
    "    window.fill((255, 255, 255))\n",
    "\n",
    "    pygame.display.update()\n",
    "\n",
    "```"
   ]
  },
  {
   "cell_type": "markdown",
   "metadata": {},
   "source": [
    "##### What does this code do?\n",
    "`screen.fill((255, 255, 255))` sets the colour of the screen. \n",
    "<br>In the sequence of numbers: `255, 255, 255`:\n",
    "- the first number sets the amout of <font color='red'>red</font>\n",
    "- the second number sets the amout of <font color='green'>green</font> \n",
    "- the third number sets the amout of <font color='blue'>blue</font> \n",
    "that get mixed together to create the colour of the screen.\n",
    "\n",
    "Each number must be between 0 and 255\n",
    "<br>`(0,0,0)` &nbsp;&nbsp; &nbsp; &nbsp; &nbsp; &nbsp; &nbsp; &nbsp; &nbsp; &nbsp; &nbsp; means black \n",
    "<br>`(255, 255, 255)` &nbsp; means white\n",
    "<br>`(255, 0, 0)` &nbsp; &nbsp; &nbsp; &nbsp; &nbsp; &nbsp; means <font color='red'>red</font>\n",
    "<br>`(0, 255, 0)` &nbsp; &nbsp; &nbsp; &nbsp; &nbsp; &nbsp; means <font color='green'>green</font>\n",
    "<br>`(0, 0, 255)` &nbsp; &nbsp; &nbsp; &nbsp; &nbsp; &nbsp; means <font color='blue'>blue</font>\n",
    "\n",
    "\n",
    "`pygame.display.update()` \n",
    "<br>...tells the computer to *update the display in the window* with the change you have made. \n",
    "\n",
    "Try some different number combinations until you get a colour that your like. \n",
    "<br>Each time you change the numbers, run the code ('Ctrl' + 'B') to view your changes..\n",
    "<br>When you run the code:\n",
    " - First, the window will appear.\n",
    " - After a few moments, it will chnage to the colour you set.\n",
    "Close the window by clicking the x button in the top left of the window before running your code again.\n",
    "\n"
   ]
  },
  {
   "cell_type": "markdown",
   "metadata": {},
   "source": [
    "## Core Programming Skill 1: Variables\n",
    "Entering all these numbers is confusing. It is difficult to remmeber what they mean, for example when choosing a colour.\n",
    "<br>An easier way is to replace the numbers with *variables*.\n",
    "\n",
    "A variable is just an easy to remember word (or letter) that  we can use instead of a number.\n",
    "\n",
    "<br>For example, earlier we learnt that: \n",
    "\n",
    ">black =`(0,0,0)` \n",
    "><br>white = `(255, 255, 255)` \n",
    "><br>red = `(255, 0, 0)` \n",
    "><br>green = `(0, 255, 0)` \n",
    "><br>blue = `(0, 0, 255)` \n",
    "\n",
    "So in our program we can write:"
   ]
  },
  {
   "cell_type": "code",
   "execution_count": null,
   "metadata": {
    "collapsed": true
   },
   "outputs": [],
   "source": [
    "black = (0,0,0)\n",
    "white = (255, 255, 255)\n",
    "red =   (255, 0, 0)\n",
    "green = (0, 255, 0)\n",
    "blue =  (0, 0, 255)"
   ]
  },
  {
   "cell_type": "markdown",
   "metadata": {},
   "source": [
    "So now, to change the colour of the screen to green, instead of:"
   ]
  },
  {
   "cell_type": "code",
   "execution_count": null,
   "metadata": {
    "collapsed": true
   },
   "outputs": [],
   "source": [
    "screen.fill((0, 255, 0))"
   ]
  },
  {
   "cell_type": "markdown",
   "metadata": {},
   "source": [
    "we can use"
   ]
  },
  {
   "cell_type": "code",
   "execution_count": null,
   "metadata": {
    "collapsed": true
   },
   "outputs": [],
   "source": [
    "screen.fill(green)"
   ]
  },
  {
   "cell_type": "markdown",
   "metadata": {},
   "source": [
    "#### Try it yourself\n",
    "Copy the list of colours from the box below. \n"
   ]
  },
  {
   "cell_type": "code",
   "execution_count": null,
   "metadata": {
    "collapsed": true
   },
   "outputs": [],
   "source": [
    "black = (0,0,0)\n",
    "white = (255, 255, 255)\n",
    "red =   (255, 0, 0)\n",
    "green = (0, 255, 0)\n",
    "blue =  (0, 0, 255)"
   ]
  },
  {
   "cell_type": "markdown",
   "metadata": {},
   "source": [
    "Paste the list in your program in the code window *immediately after* the line `clock = pygame.time.Clock()`, like this:\n",
    "```Python\n",
    "import random\n",
    "import pygame, sys\n",
    "from pygame.locals import *\n",
    "import game_builder\n",
    "from game_builder import *\n",
    "pygame.init()\n",
    "clock = pygame.time.Clock()\n",
    "\n",
    "black = (0,0,0)\n",
    "white = (255, 255, 255)\n",
    "red =   (255, 0, 0)\n",
    "green = (0, 255, 0)\n",
    "blue =  (0, 0, 255)\n",
    "```"
   ]
  },
  {
   "cell_type": "markdown",
   "metadata": {},
   "source": [
    "What colour did you make the game window earlier?\n",
    "<br>Add a new colour to the list to describe the colour of your game window. <br>Put the number next to it that you used to get that colour. \n",
    "\n",
    "Choose a name for the colour and add it to the list. Put an equals sign. After the equals sign put the number you used to make the colour, in () brackets.  \n",
    "\n",
    "If you made the screen purple, you could write:\n",
    "```Python\n",
    "purple = (100, 0, 100)\n",
    "```\n",
    "\n",
    "__Rules when choosing names__\n",
    "<br>The name cannot contain spaces e.g.\n",
    "<br>`dark blue` is not allowed.\n",
    "<br>`dark_blue` is allowed. <br>An `_` underscore is a useful way to sperate words in a name.\n",
    "\n",
    "Now change the colour of the screen using the new *variable* you just created, instead of a *number*.   \n",
    "<br>For example, replace:\n",
    "```Python\n",
    "window.fill((100, 0, 100))\n",
    "```\n",
    "<br>with:\n",
    "```Python\n",
    "window.fill(purple)\n",
    "```\n"
   ]
  },
  {
   "cell_type": "markdown",
   "metadata": {},
   "source": [
    "### Some more useful variables\n",
    "I have written some useful variables for you to use later in your program, to save you some time.\n",
    "<br>Copy the list from the box below."
   ]
  },
  {
   "cell_type": "code",
   "execution_count": null,
   "metadata": {
    "collapsed": true
   },
   "outputs": [],
   "source": [
    "x = 0\n",
    "y = 1\n",
    "WIDTH = 600\n",
    "HEIGHT = 400 \n",
    "PAD_WIDTH = 8\n",
    "PAD_HEIGHT = 80\n",
    "BALL_RADIUS = 20\n",
    "ball_vel = [0,0]\n",
    "paddle1_vel = [0,0]\n",
    "paddle2_vel = [0,0]\n",
    "BALL_POS = [WIDTH//2,HEIGHT//2]\n",
    "paddle1_pos = [WIDTH - PAD_WIDTH//2, HEIGHT//2]\n",
    "paddle2_pos = [PAD_WIDTH//2,         HEIGHT//2]\n",
    "\n",
    "game_builder.WIDTH = WIDTH\n",
    "game_builder.HEIGHT = HEIGHT \n",
    "game_builder.PAD_WIDTH = PAD_WIDTH\n",
    "game_builder.PAD_HEIGHT = PAD_HEIGHT\n",
    "game_builder.BALL_RADIUS = BALL_RADIUS\n",
    "game_builder.paddle1_pos = paddle1_pos\n",
    "game_builder.paddle2_pos = paddle2_pos\n"
   ]
  },
  {
   "cell_type": "markdown",
   "metadata": {},
   "source": [
    "Paste the copied code *direcly underneath* the list of colours."
   ]
  },
  {
   "cell_type": "markdown",
   "metadata": {},
   "source": [
    "##### What does this code do?\n",
    "You can now use these words instead of numbers in your program. \n",
    "\n",
    "For example, we can use the *variables*; `WIDTH` and `HEIGHT` to set the width and height of the game window.\n",
    "\n",
    "Earlier you used the line:\n",
    "<br>`window = pygame.display.set_mode((600, 400))`\n",
    "\n",
    "Instead you can use:\n",
    "<br>`window = pygame.display.set_mode((WIDTH, HEIGHT)`\n",
    "\n",
    "Replace the numbers next to `WIDTH` and `HEIGHT` in the list of variables in the code window:\n",
    "<br>`WIDTH = 600`\n",
    "<br>`HEIGHT = 400 `\n",
    "<br>with the numbers that you want.\n"
   ]
  },
  {
   "cell_type": "markdown",
   "metadata": {},
   "source": [
    "## Adding a Design to the Game Window\n",
    "No let's add a simple design to make the game window look more interesting.\n",
    "\n",
    "Copy the code from the box below:"
   ]
  },
  {
   "cell_type": "code",
   "execution_count": null,
   "metadata": {
    "collapsed": true
   },
   "outputs": [],
   "source": [
    "draw_board()"
   ]
  },
  {
   "cell_type": "markdown",
   "metadata": {},
   "source": [
    "Paste the copied code at the end of your program, above the line `pygame.display.update()`. \n",
    "<br>The pasted code should be at the same *indentation level* (distance from the left side of the screen) as the lines before and after it. \n",
    "\n",
    "```Python\n",
    "window.fill((100, 0, 100))\n",
    "draw_board()\n",
    "pygame.display.update()\n",
    "```"
   ]
  },
  {
   "cell_type": "markdown",
   "metadata": {},
   "source": [
    "`pygame.display.update()` \n",
    "<br>Should always be the *very last* line at the end of the program. \n"
   ]
  },
  {
   "cell_type": "markdown",
   "metadata": {},
   "source": [
    "In brackets after `draw_board` write the name of a colour from the list of variables.\n",
    "\n",
    "Example:\n",
    "\n",
    "`draw_board(green)`"
   ]
  },
  {
   "cell_type": "markdown",
   "metadata": {},
   "source": [
    "Run your code (\"Ctrl\" + \"B)\""
   ]
  },
  {
   "cell_type": "markdown",
   "metadata": {},
   "source": [
    "##### What does this code do?\n",
    "You should see a playing field design appear."
   ]
  },
  {
   "cell_type": "markdown",
   "metadata": {},
   "source": [
    "## Adding a Paddle \n",
    "In the game of pong there are two paddles that move up and down the sides of the screen. \n",
    "<br>The aim is to block the ball with the paddle to stop it rolling off the screen.\n",
    "![title](img/pong.png)"
   ]
  },
  {
   "cell_type": "markdown",
   "metadata": {},
   "source": [
    "To draw a paddle, copy the code from the box below:"
   ]
  },
  {
   "cell_type": "code",
   "execution_count": null,
   "metadata": {
    "collapsed": true
   },
   "outputs": [],
   "source": [
    "draw_paddle(PAD_HEIGHT, PAD_WIDTH, paddle1_pos, paddle1_vel)"
   ]
  },
  {
   "cell_type": "markdown",
   "metadata": {},
   "source": [
    "Paste the copied code at the end of your program, above the line `pygame.display.update()`. \n",
    "<br>The pasted code should be at the same *indentation level* (distance from the left side of the screen) as the lines before and after it. \n",
    "\n",
    "##### What does this code do?\n",
    "\n",
    "We can set four features of the paddle by putting them in brackets after `draw_paddle`:\n",
    " - *the paddle height* \n",
    " - *the paddle width* \n",
    " - *the start position of the paddle* \n",
    " - *the speed of the paddle* \n",
    "\n",
    "To set each number, we just use a variable from our list.\n",
    "<br>For example, in our list of variables:\n",
    " - `PAD_HEIGHT`= 80\n",
    " - `PAD_WIDTH` = 8\n",
    "\n",
    "`draw_paddle(PAD_HEIGHT, PAD_WIDTH,...` gives us a paddle that is 80 pixels high and 8 pixels wide."
   ]
  },
  {
   "cell_type": "markdown",
   "metadata": {},
   "source": [
    "For now, let's just choose the colour of the paddle.\n",
    "<br>At the end of the words in the brackets after `draw_board`, add a comma, and put the name of a colour that you want the paddle to be. \n",
    "\n",
    "__Example__\n",
    "<br>`draw_paddle(PAD_HEIGHT, PAD_WIDTH, paddle1_pos, paddle1_vel, white)`"
   ]
  },
  {
   "cell_type": "markdown",
   "metadata": {},
   "source": [
    "Run your code (\"Ctrl\" + \"B)\"\n",
    "\n",
    "This time, when the game window opens, you should see a rectangle appear on the left side.\n",
    "\n",
    "If you want to make it bigger or smaller, you can just change \n",
    "<br>`PAD_HEIGHT`= 80\n",
    "<br>or\n",
    "<br>`PAD_WIDTH` = 8\n",
    "<br>in the list of variables."
   ]
  },
  {
   "cell_type": "markdown",
   "metadata": {},
   "source": [
    "## Making the Paddle Move\n",
    "\n",
    "Just like in any other computer game, we want to be able to control the objects we can see on the screen.\n",
    "\n",
    "First let's add controls to our game.\n",
    "\n",
    "### Making a Games Controller\n",
    "Copy the code from the box below."
   ]
  },
  {
   "cell_type": "code",
   "execution_count": null,
   "metadata": {
    "collapsed": true
   },
   "outputs": [],
   "source": [
    "pressed = pygame.key.get_pressed()\n",
    "if pressed[pygame.K_UP]: print('UP!')\n",
    "if pressed[pygame.K_DOWN]: print('DOWN!')"
   ]
  },
  {
   "cell_type": "markdown",
   "metadata": {},
   "source": [
    "Paste the copied code at the end of your program, above the line `pygame.display.update()`. \n",
    "<br>The pasted code should be at the same *indentation level* (distance from the left side of the screen) as the lines before and after it.  \n",
    "        \n",
    "In other words, the last part of your program in the code window should look like this:\n",
    "```python\n",
    "draw_paddle(PAD_HEIGHT, PAD_WIDTH, paddle1_pos, paddle1_vel, white)\n",
    "pressed = pygame.key.get_pressed()\n",
    "if pressed[pygame.K_UP]: print('UP!')\n",
    "if pressed[pygame.K_DOWN]: print('DOWN!')\n",
    "\n",
    "```"
   ]
  },
  {
   "cell_type": "markdown",
   "metadata": {},
   "source": [
    "##### What does this code do?\n",
    "`if pressed[pygame.K_UP]: print('UP!')\n",
    "if pressed[pygame.K_DOWN]: print('DOWN!')`\n",
    "\n",
    "If you press the up arrow on the keyboard (`if pressed[pygame.K_UP]`), the message `UP!` will appear at the bottom of the code window.\n",
    "\n",
    "If you press the up arrow on the keyboard (`if pressed[pygame.K_DOWN]`), the message `DOWN!` will appear at the bottom of the code window.\n",
    "\n",
    "__Try it now!__\n",
    "\n",
    "Run the code ('Ctrl'+'B').\n",
    "\n",
    "Press the up arrow on the keyboard.\n",
    "<br>Press the down arrow on the keyboard."
   ]
  },
  {
   "cell_type": "markdown",
   "metadata": {},
   "source": [
    "__WOAH!__\n",
    "<br>It prints up and down LOADS of times. That's because the computer is checking if the key has been pressed as often as it possibly can. \n",
    "\n",
    "We need to slow down the rate that the computer checks the keys to something more reasonable.\n",
    "<br>To do that we need a timer...\n",
    "<br>...and for a timer we need a clock.\n"
   ]
  },
  {
   "cell_type": "markdown",
   "metadata": {},
   "source": [
    "Copy the code from the box below. "
   ]
  },
  {
   "cell_type": "code",
   "execution_count": null,
   "metadata": {
    "collapsed": true
   },
   "outputs": [],
   "source": [
    "clock.tick(60) "
   ]
  },
  {
   "cell_type": "markdown",
   "metadata": {},
   "source": [
    "Paste the copied code at the end of your program, above the line `clock.tick(60)`. \n",
    "<br>The pasted code should be at the same *indentation level* (distance from the left side of the screen) as the lines before and after it. \n",
    "\n",
    "The last five line of your code should now look like this: \n",
    "```Python\n",
    "    pressed = pygame.key.get_pressed()\n",
    "    if pressed[pygame.K_UP] & pressed[pygame.K_DOWN]: paddle1_vel[y] = 0\n",
    "    elif pressed[pygame.K_UP]: paddle1_vel[y] = -8\n",
    "    elif pressed[pygame.K_DOWN]: paddle1_vel[y] = 8\n",
    "    else: paddle1_vel[y] = 0\n",
    "    \n",
    "\tclock.tick(60)\n",
    "    pygame.display.update()\n",
    "```"
   ]
  },
  {
   "cell_type": "markdown",
   "metadata": {},
   "source": [
    "##### What does this code do?\n",
    "When we use `if`, `elif` (which is short for \"else if\") and `else`, the computer checks each line before moving on to the next. \n",
    "\n",
    "When it finds a line with a statement that is true, it runs that line and skips the rest of the `if`, `elif` and `else` comments. \n",
    "\n",
    "If __none__ of the lines that start with `if` or `elif` are __true__, the computer runs the line of code that starts with `else`. \n",
    "\n",
    "Example:\n",
    "```Python\n",
    "if pressed[pygame.K_UP] & pressed[pygame.K_DOWN]: paddle1_vel[y] = 0\n",
    "```\n",
    "...checks if __both the up & down buttons__ have been pressed at the same time (`pressed[pygame.K_UP] & pressed[pygame.K_DOWN]`. If they have, the paddle does not move.\n",
    "\n",
    "<br>\n",
    "```Python\n",
    "elif pressed[pygame.K_UP]: paddle1_vel[y] = -8\n",
    "```\n",
    "...checks if __only the up__ button has bee pressed(pressed[pygame.K_UP]). If it has, it makes the distance bewtween the ball and the top of the screen smaller by -8 pixels or spaces.\n",
    "\n",
    "<br>\n",
    "```Python\n",
    "elif pressed[pygame.K_DOWN]: paddle1_vel[y] = 8\n",
    "```\n",
    "...checks if __only the down__ button has bee pressed(pressed[pygame.K_UP]). If it has, it makes the distance bewtween the ball and the top of the screen bigger by -8 pixels or spaces.\n",
    "\n",
    "<br>\n",
    "```Python\n",
    "else\n",
    "```\n",
    "Th only other thing that can happen is that neither the up or down button was pressed. In that case, the paddle does not move.\n",
    "\n",
    "\n",
    "\n"
   ]
  },
  {
   "cell_type": "markdown",
   "metadata": {},
   "source": [
    "__Try it now!__\n",
    "\n",
    "Run the code ('Ctrl'+'B').\n",
    "\n",
    "Press the up arrow on the keyboard.\n",
    "<br>Press the down arrow on the keyboard.\n",
    "\n",
    "You should see the paddle move up and down. "
   ]
  },
  {
   "cell_type": "markdown",
   "metadata": {},
   "source": [
    "## Core Programming Skill 2: `if`, `elif` and else.\n",
    "\n",
    "In the code window, delete the lines:\n",
    "`if pressed[pygame.K_UP]: print('UP!')`\n",
    "`if pressed[pygame.K_DOWN]: print('DOWN!')`"
   ]
  },
  {
   "cell_type": "markdown",
   "metadata": {},
   "source": [
    "Copy the code from the cell below. "
   ]
  },
  {
   "cell_type": "code",
   "execution_count": null,
   "metadata": {
    "collapsed": true
   },
   "outputs": [],
   "source": [
    "if pressed[pygame.K_UP] & pressed[pygame.K_DOWN]: paddle1_vel[y] = 0\n",
    "elif pressed[pygame.K_UP]: paddle1_vel[y] = -8\n",
    "elif pressed[pygame.K_DOWN]: paddle1_vel[y] = 8\n",
    "else: paddle1_vel[y] = 0"
   ]
  },
  {
   "cell_type": "markdown",
   "metadata": {},
   "source": [
    "Paste the copied code at the end of your program, above the line `pygame.display.update()`. \n",
    "<br>The pasted code should be at the same *indentation level* (distance from the left side of the screen) as the lines before and after it."
   ]
  },
  {
   "cell_type": "markdown",
   "metadata": {},
   "source": [
    "Copy the code from the box below \n"
   ]
  },
  {
   "cell_type": "code",
   "execution_count": null,
   "metadata": {
    "collapsed": true
   },
   "outputs": [],
   "source": [
    "if pressed[pygame.K_UP]: V -= 3\n",
    "if pressed[pygame.K_DOWN]: V += 3"
   ]
  },
  {
   "cell_type": "markdown",
   "metadata": {},
   "source": [
    "##### What does this code do?\n",
    "<br>If we press the up arrow on the keyboard, `V -= 3` makes the distance bewtween the ball and the top of the screen smaller by `3` spaces.  \n",
    "<br>If we press the up arrow on the keyboard, `V += 3` makes the distance bewtween the ball and the top of the screen bigger by `3` spaces."
   ]
  },
  {
   "cell_type": "markdown",
   "metadata": {},
   "source": [
    "To see the change in the position of the ball, we just draw it again at its new position.\n",
    "\n",
    "Earlier, we learnt to use three commands to:\n",
    "- colour in the screen \n",
    "- colour in the ball \n",
    "- display the changes"
   ]
  },
  {
   "cell_type": "markdown",
   "metadata": {},
   "source": [
    "In your program, these commands look something like this:\n",
    "\n",
    "```Python\n",
    "screen.fill(MY_COLOUR)\n",
    "\n",
    "pygame.draw.circle(screen, \n",
    "                   BLUE, \n",
    "                   [H, V], \n",
    "                   RADIUS)\n",
    "pygame.display.flip()\n",
    "```"
   ]
  },
  {
   "cell_type": "markdown",
   "metadata": {},
   "source": [
    "The names of the colours will be the ones you have chosen instead.\n",
    "\n",
    "__Find these lines in your program in the code window.__\n",
    "\n",
    "This time, instead of copying and pasting from the __*instruction window*__, you are going to copy code from your own program and recycle it. \n",
    "\n",
    "Copy the lines *from the code window* in the same way as you copy lines from the *instrcution window*:\n",
    "- Use the mouse to highlight the code by holding down the *left* mouse button and dragging the curser over the text you want to highlight.\n",
    "- Press and hold \"Ctrl\" on the keyboard. While holding \"Ctrl\" press \"C\" on the keyboard."
   ]
  },
  {
   "cell_type": "markdown",
   "metadata": {},
   "source": [
    "Paste the code at the very end of your program, *directly underneath* the last line of code already in the code window. <br> The pasted code should be at the same *indentation level* (distance from the left side of the screen) as the last line."
   ]
  },
  {
   "cell_type": "markdown",
   "metadata": {},
   "source": [
    "The last part of your code should now look somthing like this:\n",
    "```Python\n",
    "        clock.tick(60) \n",
    "        pressed = pygame.key.get_pressed()\n",
    "        if pressed[pygame.K_UP]: print('UP!')\n",
    "        if pressed[pygame.K_DOWN]: print('DOWN!')\n",
    "        if pressed[pygame.K_UP]: V -= 3\n",
    "        if pressed[pygame.K_DOWN]: V += 3\n",
    "        screen.fill(MY_COLOUR)\n",
    "        pygame.draw.circle(screen, \n",
    "                            BLUE, \n",
    "                            [H, V], \n",
    "                            RADIUS) \n",
    "        pygame.display.flip()\n",
    "```"
   ]
  },
  {
   "cell_type": "markdown",
   "metadata": {},
   "source": [
    "__Try it now!__\n",
    "\n",
    "Run the code ('Ctrl'+'B').\n",
    "\n",
    "Press the up arrow on the keyboard.\n",
    "<br>Press the down arrow on the keyboard.\n",
    "\n",
    "You can now control the motion of the ball!"
   ]
  },
  {
   "cell_type": "markdown",
   "metadata": {},
   "source": [
    "### Adding More Directions\n",
    "You can make the ball move up and down.\n",
    "<br>Let's add the other two arrow keys on the keyboard (left and right) to move the ball from side to side.\n",
    "\n",
    "Copy the code from the box below:"
   ]
  },
  {
   "cell_type": "code",
   "execution_count": null,
   "metadata": {
    "collapsed": true
   },
   "outputs": [],
   "source": [
    "if pressed[pygame.K_LEFT]: H -= 3\n",
    "if pressed[pygame.K_RIGHT]: H += 3"
   ]
  },
  {
   "cell_type": "markdown",
   "metadata": {},
   "source": [
    "Paste the copied code *directly underneath* the lines :\n",
    "<br>`if pressed[pygame.K_UP]: V -= 3\n",
    "if pressed[pygame.K_DOWN]: V += 3`\n",
    "<br>in your program in the code window."
   ]
  },
  {
   "cell_type": "markdown",
   "metadata": {},
   "source": [
    "You can also delete the lines:\n",
    "<br>`if pressed[pygame.K_UP]: print('UP!')\n",
    "if pressed[pygame.K_DOWN]: print('DOWN!')`"
   ]
  },
  {
   "cell_type": "markdown",
   "metadata": {},
   "source": [
    "So the last part of your program should look somthing like this:\n",
    "```Python\n",
    "    pressed = pygame.key.get_pressed()\n",
    "    if pressed[pygame.K_UP]: V -= 3\n",
    "\tif pressed[pygame.K_DOWN]: V += 3\n",
    "\tif pressed[pygame.K_LEFT]: H -= 3\n",
    "\tif pressed[pygame.K_RIGHT]: H += 3\n",
    "\tscreen.fill(MY_COLOUR)\n",
    "\tpygame.draw.circle(screen, \n",
    "\t\t\t\t\t\tBLUE, \n",
    "\t\t\t\t\t\t[H, V], \n",
    "\t\t\t\t\t\tRADIUS) \n",
    "\tpygame.display.flip()\n",
    "\n",
    "```\n"
   ]
  },
  {
   "cell_type": "markdown",
   "metadata": {},
   "source": [
    "__Try it now!__\n",
    "\n",
    "Run the code ('Ctrl'+'B').\n",
    "\n",
    "Press the up, down, left and right arrows on the keyboard.\n",
    "\n",
    "What happens if you press up and left at the same time?"
   ]
  },
  {
   "cell_type": "code",
   "execution_count": null,
   "metadata": {
    "collapsed": true
   },
   "outputs": [],
   "source": [
    "if V < RADIUS//2: V = RADIUS//2 \n",
    "if V > HEIGHT - (RADIUS//2): V = HEIGHT - (RADIUS//2)\n",
    "if H < RADIUS//2: H = RADIUS//2 \n",
    "if H > WIDTH - (RADIUS//2): H = WIDTH - (RADIUS//2)"
   ]
  }
 ],
 "metadata": {
  "kernelspec": {
   "display_name": "Python 3",
   "language": "python",
   "name": "python3"
  },
  "language_info": {
   "codemirror_mode": {
    "name": "ipython",
    "version": 3
   },
   "file_extension": ".py",
   "mimetype": "text/x-python",
   "name": "python",
   "nbconvert_exporter": "python",
   "pygments_lexer": "ipython3",
   "version": "3.6.2"
  }
 },
 "nbformat": 4,
 "nbformat_minor": 2
}
